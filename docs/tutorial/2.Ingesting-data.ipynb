{
 "cells": [
  {
   "cell_type": "code",
   "execution_count": null,
   "metadata": {},
   "outputs": [],
   "source": [
    "# !pip install llama_index==0.11.4\n",
    "# !pip install docx2txt==0.8\n",
    "# !pip install llama-index-extractors-entity==0.2.0\n",
    "# !pip install llama-index-readers-web==0.2.2\n",
    "# !pip install transformers==4.40.2"
   ]
  },
  {
   "cell_type": "code",
   "execution_count": 1,
   "metadata": {},
   "outputs": [],
   "source": [
    "from llama_index.core import Settings\n",
    "from llama_index.llms.openai import OpenAI\n",
    "import openai\n",
    "\n",
    "openai.api_key = \"sk-proj-your-openai-api-key\"\n",
    "Settings.llm = OpenAI(model=\"gpt-4o-mini\", temperature=0.2)"
   ]
  },
  {
   "cell_type": "markdown",
   "metadata": {},
   "source": [
    "## Ingesting Data"
   ]
  },
  {
   "cell_type": "markdown",
   "metadata": {},
   "source": [
    "Một câu trả lời tốt đến từ dữ liệu chất lượng, vì vậy việc chuẩn bị và xử lí dữ liệu cho hệ thống RAG rất quan trọng. \n",
    "\n",
    "Trong phần Llamaindex cơ bản, chúng ta đã nắm được khái niệm về Node, Document, Index.  Việc tạo Document trong các ví dụ trước đó sử dụng đầu vào là string đơn giản. Tuy nhiên trong thực tế, chúng ta có rất nhiều loại dữ liệu khác nhau, vậy làm thế nào để đọc được chúng.\n",
    "\n",
    "Llamaindex cung cấp cho chúng ta nhiều công cụ có sẵn để giải quyết vấn đề này, trong dự án này sẽ sử dụng công cụ SimpleDirectoryReader, nó cực kỳ tiện dụng bởi khả năng đọc được hầu hết các loại tài liệu phổ biến như PDF, Word, CSV, TXT. Việc của chúng ta là tạo một thư mục chứa các loại dữ liệu và đưa cho SimpleDirectoryReader, nó sẽ tự xử lý, nó tự động đến mức mà chúng ta không cần phải chỉ rõ từng loại file, nó tự động lựa chọn công cụ phù hợp với từng file mà nó nhận dạng bởi đuôi file. Với các file PDF, CSV nó sử dụng các thư viện như PyPDF... để tải các dữ liệu này. Tuy nhiên, đối với các trường hợp dữ liệu phức tạp, ví dụ như một tài liệu pdf chứa cả văn bản và các bảng dữ liệu phức tạp, hay chúng ta cần load nội dung trang web qua đường dẫn... thì chúng ta cần các công cụ chuyên biệt hơn, có thể tìm thấy tại Llamahub, một thư viện tích hợp bổ xung cho llama index.\n",
    "\n"
   ]
  },
  {
   "cell_type": "markdown",
   "metadata": {},
   "source": [
    "## Load data"
   ]
  },
  {
   "cell_type": "markdown",
   "metadata": {},
   "source": [
    "### Load nhiều loại dữ liệu với SimpleDirectoryReader"
   ]
  },
  {
   "cell_type": "code",
   "execution_count": 2,
   "metadata": {},
   "outputs": [],
   "source": [
    "def get_meta(file_path):\n",
    "    return {}\n",
    "\n",
    "from llama_index.core import SimpleDirectoryReader\n",
    "\n",
    "STORAGE_PATH = \"docx\"\n",
    "documents = SimpleDirectoryReader(\n",
    "        STORAGE_PATH, \n",
    "        filename_as_id = True, \n",
    "        file_metadata=get_meta\n",
    "    ).load_data()"
   ]
  },
  {
   "cell_type": "code",
   "execution_count": 3,
   "metadata": {},
   "outputs": [
    {
     "name": "stdout",
     "output_type": "stream",
     "text": [
      "('id_', '/home/tiemdinh/Tiem-workspace/AIO-Mental-Health/docs/tutorial/docx/dsm5.docx_part_0')\n",
      "('embedding', None)\n",
      "('metadata', {'file_name': 'dsm5.docx'})\n",
      "('excluded_embed_metadata_keys', ['file_name', 'file_type', 'file_size', 'creation_date', 'last_modified_date', 'last_accessed_date'])\n",
      "('excluded_llm_metadata_keys', ['file_name', 'file_type', 'file_size', 'creation_date', 'last_modified_date', 'last_accessed_date'])\n",
      "('relationships', {})\n",
      "('text', 'Chỉ sử dụng tài liệu vào mục đích học tập và nghiên cứu\\n\\nChỉ sử dụng tài liệu vào mục đích học tập và nghiên cứu\\n\\n\\n\\nChỉ sử dụng tài liệu vào mục đích học tập và nghiên cứu\\n\\nChỉ sử dụng tài liệu vào mục đích học tập và nghiên cứu\\n\\n\\n\\nChỉ sử dụng tài liệu vào mục đích học tập và nghiên cứu\\n\\nChỉ sử dụng tài liệu vào mục đích học tập và nghiên cứu\\n\\n\\n\\nChỉ sử dụng tài liệu vào mục đích học tập và nghiên cứu\\n\\nChỉ sử dụng tài liệu vào mục đích học tập và nghiên cứu\\n\\n\\n\\nChỉ sử dụng tài liệu vào mục đích học tập và nghiên cứu\\n\\nChỉ sử dụng tài liệu vào mục đích học tập và nghiên cứu\\n\\n\\n\\nChỉ sử dụng tài liệu vào mục đích học tập và nghiên cứu\\n\\nChỉ sử dụng tài liệu vào mục đích học tập và nghiên cứu\\n\\n\\t\\tRỐI LOẠN TRẦM CẢM\\n\\n\\t\\tRối loạn điều hòa khí sắc ( Disruptive mood dysregulayion Disorder)\\n\\nMã số: 296.99 (F34.8)\\n\\n\\t\\tCác cơn bùng nổ cảm xúc trầm trọngtái diễn dai dẳng, thể hiện dưới dạng ngôn ngữ (ví dụ cơn giận dữ) và /hoặc hành vi (ví dụ, xâm hại người khác hoặc phá hoại tài sản) hoàn toàn không tương thích với hoàn cảnh hoặc cường độ kích thích.\\n\\n\\t\\tCác cơn bùng nổ không tương thích với mức độ phát triển.\\n\\n\\t\\tCác cơn bùng nổ xuất hiện trung bình khoảng 3 lần (hoặc hơn) trong một tuần.\\n\\n\\t\\tGiữa 2 lần bùng nổ, khí sắc thường là trạng thái kích thích hoặc bực bội, kéo dài dai dẳng, gần như suốt ngày, hầu như ngày nào cũng trong tình trạng như vậy. Người xung quanh (ví dụ, cha mẹ, giáo viên, bạn bè) đều dễ dàng nhận thấy tình trạng này.\\n\\n\\t\\tNhững biểu hiện như trong tiêu chuẩn A-D kéo dài ít nhất 12 tháng. Trong khoảng thời gian này, không có giai đoạn nào kéo dài đến 3 tháng mà không có bất kì một triệu chứng nào trong các tiêu chuẩn A-D.\\n\\n\\t\\tTiêu chuẩn A và D phải xuất hiện trong 2 (hoặc nhiều hơn) hoàn cảnh (ví dụ, ở nhà, ở trường học, với bạn bè), mức độ nặng thể hiện ở ít nhất trong một hoàn cảnh.\\n\\n\\t\\tChẩn đoán lần đầu được đưa ra trước 6 tuổi hoặc sau 18 tuổi.\\n\\n\\t\\tTrong tiền sử hoặc đã được quan sát thấy các triệu chứng trong tiêu chuẩn A- E khởi phát trước 10 tuổi.\\n\\n\\t\\tKhông có một khoảng thời gian nào kéo dài đến 1 tháng (hoặc hơn), trong đó có đủ các tiêu chuẩn, trừ tiêu chuẩn thời gian, đáp ứng chẩn đoán giai đoạn hưng cảm hoặc hưng cảm nhẹ. Chú ý: không nên xem những biểu hiện cảm xúc theo lứa tuổi, ví dụ, những cảm xúc liên quan đến một sự kiện gây nhiều cảm xúc tích cực hoặc chờ đợi nó, là những triệu chứng của hưng cảm hoặc hưng cảm nhẹ.\\n\\n\\t\\tCác hành vi không xuất hiện chỉ trong giai đoạn rối loạn trầm cảm chủ yếu và không thể được giải thích tốt hơn bởi một rối loạn tâm thần khác (ví dụ, rối loạn phổ tự kỉ, PTSD, rối loạn lo âu chia tách, rối loạn trầm cảm dai dẳng/loạn khí sắc).\\n\\nChú ý: Chẩn đoán không được đặt ra đồng thời với rối loạn hành vi chống đối, rối loạn bùng nổ từng cơn, hoặc rối loạn lưỡng cực, mặc dù có thể nó đi cùng với các chẩn đoán khác, trong đó có rối loạn trầm cảm chủ yếu, tăng động/giảm chú ý, rối loạn hành vi đạo đức (conduct disorder) và rối loạn sử dụng chất. Những người có các triệu chứng đáp ứng tiêu chuẩn cả hai chẩn đoán: rối loạn điều hòa khí sắc và rối loạn hành vi chống đối thì chỉ đưa ra chẩn đoán rối loạn điều hòa khí sắc. Nếu cá nhân đã từng có giai đoạn hưng cảm hoặc hưng cảm nhẹ thì không nên ấn định rối loạn điều hòa khí sắc.\\n\\n\\t\\tCác triệu chứng không phải là do tác dụng sinh lí của một chất hoặc một bệnh cơ thể hay bệnh thần kinh khác.\\n\\nChẩn đoán phân biệt:\\n\\n\\t\\tRối loạn lưỡng cực\\n\\n\\t\\tRối loạn hành vi chống đối\\n\\n\\t\\tADHD, rối loạn trầm cảm chủ yếu, các rối loạn lo âu, rối loạn phổ tự kỉ\\n\\n\\t\\tRối loạn bùng nổ từng cơn.\\n\\n\\t\\tRối loạn trầm cảm chủ yếu (Major Depressive Disorder)\\n\\n\\t\\tNăm (hoặc hơn) trong số các triệu chứng sau được biểu hiện trong thời gian 2 tuần và biểu hiện một số sự thay đổi mức độ chức năng trước đây, có ít nhất 1 trong các triệu chứng hoặc là (1) khí sắc giảm, hoặc là (2) mất thích thú/sở thích. Ghi chú : Không bao gồm các triệu chứng là hậu quả rõ ràng của bệnh cơ thể hoặc hoang tưởng hoặc ảo giác không phù hợp với khí sắc.\\n\\n\\t\\tKhí sắc giảm ở phần lớn thời gian trong ngày, hầu như hằng ngày, nhận biết hoặc bởi chính bệnh nhân (ví dụ: cảm giác buồn hoặc cảm xúc trống rỗng) hoặc được quan sát bởi người khác (ví dụ: thấy bệnh nhân khóc). Ghi chú: ở trẻ em và vị thành niên khí sắc có thể bị kích thích.\\n\\n\\t\\tGiảm sút rõ ràng các thích thú/sở thích ở tất cả hoặc hầu như tất cả các hoạt động, có phần lớn thời gian trong ngày, hầu như hằng ngày (được chỉ ra hoặc bởi bệnh nhân, hoặc từ sự quan sát của người khác).\\n\\n\\t\\tGiảm cân rõ ràng, cả khi không ăn kiêng, hoặc tăng cân (ví dụ: thay đổi hơn 5% trọng lượng cơ thể trong một tháng), giảm hoặc tăng cảm giác ngon miệng hầu như hằng ngày. Lưu ý: trẻ em mất khả năng đạt được cân nặng cần thiết.\\n\\n\\t\\tMất ngủ hoặc ngủ nhiều hầu như hằng ngày.\\n\\n\\t\\tKích động hoặc vận động tâm thần chậm hầu như hằng ngày (được quan sát bởi người khác, không chỉ cảm giác của bệnh nhân là không yên tĩnh hoặc chậm chạp).\\n\\n\\t\\tMệt mỏi hoặc mất năng lượng hầu như hằng ngày.\\n\\n\\t\\tCảm giác vô dụng hoặc tội lỗi quá mức (có thể là hoang tưởng) hầu như hằ ng ngày (không chỉ là tự khiểm trách hoặc kết tội liên quan đến các vấn đề mắc phải).\\n\\n\\t\\tGiảm khả năng suy nghĩ, tập trung chú ý hoặc khó đưa ra quyết định hầu như\\n\\nhằng ngày (bệnh nhân tự thấy, hoặc người khác nhận thấy).\\n\\n\\t\\tÝ nghĩ tiếp tục về cái chết (không chỉ là sợ chết), ý định tự sát tái diễn không có một kế hoạch trước, một hành vi tự sát hoặc một kế hoạch cụ thể để tự sát thành công.\\n\\n\\t\\tCác triệu chứng không thoả mãn cho một giai đoạn hỗn hợp.\\n\\n\\t\\tCác triệu chứng được biểu hiện rõ ràng, là nguyên nhân ảnh hưởng đến các\\n\\nlĩnh vực xã hội, nghề nghiệp hoặc trong các lĩnh vực quan trọng khác.\\n\\n\\t\\tCác triệu chứng không phải là hậu quả sinh lí trực tiếp của một chất (ví dụ:\\n\\nma tuý, thuốc) hoặc do một bệnh cơ thể (ví dụ: bệnh nhược giáp).\\n\\n\\t\\tCác triệu chứng không được giải thích tốt bởi có tang, nghĩa là sau khi mất người thân, các triệu chứng bền vững hơn 2 tháng, được đặc trưng bởi rối loạn chức năng rõ ràng, có ý nghĩ mình là vô dụng, ý tưởng tự sát, các triệu chứng loạn thần hoặc vận động tâm thần chậm.\\n\\nChẩn đoán phân biệt:\\n\\n\\t\\tGiai đoạn hưng cảm kèm theo những phản ứng cáu gắt (prominent irritable) hoặc pha hỗn hợp.\\n\\n\\t\\tRối loạn khí sắc do một bệnh cơ thể khác.\\n\\n\\t\\tRối loạn trầm cảm do một chất/thuốc hoặc rối loạn lưỡng cực.\\n\\n\\t\\tRối loạn tăng động/ giảm chú ý.\\n\\n\\t\\tRối loạn thích ứng có khí sắc trầm cảm.\\n\\n\\t\\t\\tRối loạn trầm cảm dai dẳng (loạn khí sắc) (Persistent Depressive\\n\\nDisorder/Dysthymia)\\n\\n\\t\\tKhí sắc giảm trong phần lớn của ngày, nhiều ngày có hơn là ngày không, được bệnh nhân nhận thấy hoặc được quan sát bởi người khác trong thời gian ít nhất 2 năm. Lưu ý: ở trẻ em và vị thành niên khí sắc có thể là bị kích thích và thời gian cần ít nhất là 1 năm.\\n\\n\\t\\tBiểu hiện trong thời gian trầm cảm 2 hoặc hơn các triệu chứng sau:\\n\\n\\t\\tGiảm cảm giác ngon miệng hoặc ăn quá nhiều.\\n\\n\\t\\tÍt ngủ hoặc ngủ nhiều.\\n\\n\\t\\tGiảm năng lượng và mệt mỏi.\\n\\n\\t\\tTự tin giảm.\\n\\n\\t\\tGiảm khả năng tập trung hoặc khó quyết định.\\n\\n\\t\\tCảm giác tuyệt vọng.\\n\\n\\t\\tTrong giai đoạn kéo dài 2 năm (một năm cho trẻ em hoặc vị thành niên) bệnh nhân không bao giờ không có các triệu chứng thoả mãn tiêu chuẩn A và B trong thời gian kéo dài hơn 2 tháng, mỗi lần.\\n\\n\\t\\tKhông một giai đoạn trầm cảm nào biểu hiện trong thời gian 2 năm đầu của tổn thương (một năm cho trẻ em và vị thành niên), nghĩa là bệnh không được giải thích tốt hơn bởi rối loạn trầm cảm chủ yếu mãn tính hoặc rối loạn trầm cảm chủ yếu có lui bệnh một phần. Lưu ý: có thể có một giai đoạn trầm cảm chủ yếu trước đó với điều kiện đã có lui bệnh hoàn toàn (không có các dấu hiệu và triệu chứng trong vòng 2 tháng) trước khi xuất hiện rối loạn khí sắc. Ngoài ra, sau 2 năm đầu (một năm với trẻ em và vị thành niên) của rối loạn khí sắc, có thể có các giai đoạn trầm cảm chủ yếu, trong trường hợp này, sẽ được đặt cả 2 chẩn đoán khi thoả mãn các tiêu chuẩn cho giai đoạn trầm cảm chủ yếu.\\n\\n\\t\\tKhông bao giờ có một giai đoạn hưng cảm, pha trộn hoặc hưng cảm nhẹ và không bao giờ thoả mãn các tiêu chuẩn cho rối loạn khí sắc chu kì.\\n\\n\\t\\tRối loạn không xuất hiện trong phạm vi một loạn thần mạn tính như TTPL\\n\\nhoặc rối loạn hoang tưởng.\\n\\n\\t\\tRối loạn không phải là kết quả sinh lí trực tiếp của một chất (ví dụ ma tuý, thuốc) hoặc một bệnh cơ thể (ví dụ nhược giáp).\\n\\n\\t\\tCác triệu chứng là nguyên nhân ảnh hưởng lâm sàng rõ ràng trong các lĩnh vực xã hội, nghề nghiệp hoặc trong các lĩnh vực chức năng quan trọng khác. Được biệt định nếu như :\\n\\n\\t\\tKhởi phát sớm: nếu khởi phát xuất hiện trước năm 21 tuổi.\\n\\n\\t\\tKhởi phát muộn: nếu khởi phát ở tuổi 21 hoặc muộn hơn.\\n\\n\\t\\tCó yếu tố không đặc trưng.\\n\\nChẩn đoán phân biệt:\\n\\n\\t\\tChẩn đoán phân biệt giữa loạn khí sắc và rối loạn trầm cảm chủ yếu là rất khó do thực tế là cả 2 rối loạn có triệu chứng giống nhau nhưng sự khác biệt giữa chúng ở giai đoạn khởi phát, độ dài, độ bền và mức độ nặng không dễ đánh giá hồi cứu.\\n\\nRối loạn trầm cảm chủ yếu được xác định từ một hoặc nhiều giai đoạn trầm cảm chủ yếu riêng rẽ có các giai đoạn lui bệnh giữa các cơn trầm cảm chủ yếu, trong khi loạn khí sắc được đặc trưng bởi các triệu chứng trầm cảm nhẹ và biểu hiện liên tục trong nhiều năm.\\n\\n\\t\\tCác triệu chứng trầm cảm có thể là một yếu tố phối hợp thường xuyên của rối loạn tâm thần mạn tính (ví dụ của rối loạn phân liệt cảm xúc, TTPL, rối loạn hoang tưởng). Một chẩn đoán riêng rẽ rối loạn khí sắc không đặt ra nếu như các triệu chứng xuất hiện chỉ trong phạm vi của RLTT (bao gồm cả pha di chứng).\\n\\n- Rối loạn khí sắc cần được phân biệt với rối loạn cảm xúc do một bệnh cơ thể. Chẩn đoán là rối loạn cảm xúc do bệnh cơ thể, có yếu tố trầm cảm, nếu như các\\n\\nrối loạn cảm xúc được coi là kết quả sinh lí trực tiếp của bệnh cơ thể, thường là bệnh mãn tính (vữa xơ động mạch). Điểm nhấn mạnh này được đặt cơ sở trên tiền sử, số liệu cận lâm sàng, khám cơ thể.\\n\\n\\t\\tMột rối loạn cảm xúc tạo ra bởi một chất được phân biệt với rối loạn khí sắc từ thực tế là bệnh nhân có sử dụng một chất (ví dụ ma tuý, thuốc hoặc chất độc) được coi là bệnh sinh trong liên quan với rối loạn cảm xúc.\\n\\n\\t\\tBệnh nhân loạn khí sắc thường có rối loạn nhân cách phối hợp. Khi bảng lâm sàng của một bệnh nhân thoả mãn các tiêu chuẩn cho cả rối loạn khí sắc và rối loạn nhân cách, cả 2 chẩn đoán đều được đặt ra.\\n\\n\\t\\tRối loạn cảm xúc tiền kinh nguyệt (Premenstrual Dysphoric Disorder)\\n\\nMã số: 625.4 (N94.3)\\n\\n\\t\\tTrong phần lớn các chu kì kinh nguyệt, ít nhất có 5 triệu chứng xuất hiện trong tuần cuối của chu kì, khá lên trong vài ngày sau khi hành kinh và ở mức độ tối thiểu hoặc hết các triệu chứng ở tuần sau hành kinh.\\n\\n\\t\\tCó 1 (hoặc nhiều hơn) trong số các triệu chứng dưới đây:\\n\\n\\t\\tCảm xúc dao động đáng kể (ví dụ, thay đổi tâm trạng nhanh, đột nhiên cảm thấy buồn, tăng nhạy cảm với những từ chối).\\n\\n\\t\\tTăng kích thích hoặc tăng xung đột với người khác.\\n\\n\\t\\tKhí sắc trầm rõ rệt, cảm giác vô vọng hoặc những ý nghĩ chống lại chính mình.\\n\\n\\t\\tTâm trạng lo âu, căng thẳng rõ rệt và/hoặc cảm giác bị kích động (being keyed up ) hoặc nguy khốn(on edge).\\n\\n\\t\\tCần phải có thêm ít nhất 1 trong số các triệu chứng dưới đây, kết hợp với 4 triệu chứng ở tiêu chuẩn B để cho đủ ít nhất 5 triệu chứng:\\n\\n\\t\\tGiảm hứng thú đối với các hoạt động thường ngày (ví dụ, làm việc, học tập, gặp gỡ bạn bè, những sở thích cá nhân).\\n\\n\\t\\tCảm thấy khó tập trung.\\n\\n\\t\\tTrạng thái bơ phờ, dễ mệt mỏi hoặc thiếu năng lượng rõ rệt.\\n\\n\\t\\tThay đổi rõ rệt về khẩu vị; ăn nhiều hoặc quá thèm một loại thức ăn nào đó.\\n\\n\\t\\tNgủ nhiều hoặc mất ngủ.\\n\\n\\t\\tCảm giác bị vùi dập hoặc mất kiểm soát.\\n\\n\\t\\tCác triệu chứng cơ thể như: vú bị mềm nhẽo hoặc căng lên;kết hợp với hoặc\\n\\nđau cơ hoặc tăng cân.\\n\\nChú ý: các triệu chứng trong tiêu chuẩn A-C phải xuất hiện trong phần lớn các chu kì kinh nguyệt trong năm vừa qua.\\n\\n\\t\\tCác triệu chứng liên quan rõ rệt với đau khổ (distress) hoặc gây cản trởcông việc, học tập, các hoạt động xã hội thông thường hoặc mối quan hệ với những người khác (ví dụ, né tránh các hoạt động xã hội, giảm năng suất và hiệu quả lao động, học tập hoặc ở nhà).\\n\\n\\t\\tRối loạn không chỉ đơn thuần là sự trầm trọng thêm các triệu chứng của một rối loạn khác, dạng như rối loạn trầm cảm chủ yếu, rối loạn hoảng sợ, rối loạn\\n\\ntrầm cảm dai dẳng (loạn khí sắc) hoặc rối loạn nhân cách (mặc dù nó có thể xuất hiện cùng với những rối loạn này).\\n\\n\\t\\tTiêu chuẩn A phải được qua theo dõi liên tục hằng ngày trong ít nhất là 2 chu kì liên tiếp (Chú ý: chẩn đoán được đặt là tạm thời trước khi có sự khẳng định như trên).\\n\\n\\t\\tCác triệu chứng không thể quy cho hậu quả sinh lí của việc sử dụng chất (ví dụ, lạm dụng matúy, thuốc hoặc các liệu pháp khác) hoặc do một bệnh cơ thể khác (ví dụ, cường giáp).\\n\\n\\t\\tRối loạn trầm cảm do một bệnh cơ thể\\n\\n\\t\\tMột giai đoạn nổi lên trong bệnh cảnh lâm sàng là khí sắc trầm kéo dài hoặc giảm đáng kể hứng thú và/hoặc hoặc các giải trí hoạt động .\\n\\n\\t\\tTrong tiền sử, kết quả thăm khám hoặc các xét nghiệm có bằng chứng cho thấy rối loạn là hậu quả sinh lí bệnh trực tiếp của một bệnh cơ thể khác.\\n\\n\\t\\tRối loạn này không được giải thích tốt hơn bởi một RLTT khác (ví dụ: rối loạn thích ứng có khí sắc trầm cảm, trong đó tác nhân gây stress là một bệnh cơ thể nặng).\\n\\n\\t\\tRối loạn không xuất hiệnchỉ ở trong trạng thái sảng.\\n\\n\\t\\tRối loạn gây ra những đau khổ (distress) đáng kể về lâm sàng hoặc làm tổn thiệt đến các chức năng về xã hội, nghề nghiệp hay các lĩnh vực quan trọng khác.\\n\\n\\n\\n5\\n\\n\\n\\n4\\n\\n\\n\\n1\\n\\n\\n\\n6\\n\\n\\n\\n2\\n\\n\\n\\n3')\n",
      "('mimetype', 'text/plain')\n",
      "('start_char_idx', None)\n",
      "('end_char_idx', None)\n",
      "('text_template', '{metadata_str}\\n\\n{content}')\n",
      "('metadata_template', '{key}: {value}')\n",
      "('metadata_seperator', '\\n')\n"
     ]
    }
   ],
   "source": [
    "for i in documents[0]:\n",
    "    print(i)"
   ]
  },
  {
   "cell_type": "code",
   "execution_count": 4,
   "metadata": {},
   "outputs": [],
   "source": [
    "from llama_index.core import SimpleDirectoryReader\n",
    "\n",
    "STORAGE_PATH = \"docx\"\n",
    "documents = SimpleDirectoryReader(\n",
    "        STORAGE_PATH, \n",
    "        filename_as_id = True\n",
    "    ).load_data()"
   ]
  },
  {
   "cell_type": "code",
   "execution_count": 5,
   "metadata": {},
   "outputs": [
    {
     "name": "stdout",
     "output_type": "stream",
     "text": [
      "('id_', '/home/tiemdinh/Tiem-workspace/AIO-Mental-Health/docs/tutorial/docx/dsm5.docx_part_0')\n",
      "('embedding', None)\n",
      "('metadata', {'file_name': 'dsm5.docx', 'file_path': '/home/tiemdinh/Tiem-workspace/AIO-Mental-Health/docs/tutorial/docx/dsm5.docx', 'file_type': 'application/vnd.openxmlformats-officedocument.wordprocessingml.document', 'file_size': 38093, 'creation_date': '2024-09-03', 'last_modified_date': '2024-09-03'})\n",
      "('excluded_embed_metadata_keys', ['file_name', 'file_type', 'file_size', 'creation_date', 'last_modified_date', 'last_accessed_date'])\n",
      "('excluded_llm_metadata_keys', ['file_name', 'file_type', 'file_size', 'creation_date', 'last_modified_date', 'last_accessed_date'])\n",
      "('relationships', {})\n",
      "('text', 'Chỉ sử dụng tài liệu vào mục đích học tập và nghiên cứu\\n\\nChỉ sử dụng tài liệu vào mục đích học tập và nghiên cứu\\n\\n\\n\\nChỉ sử dụng tài liệu vào mục đích học tập và nghiên cứu\\n\\nChỉ sử dụng tài liệu vào mục đích học tập và nghiên cứu\\n\\n\\n\\nChỉ sử dụng tài liệu vào mục đích học tập và nghiên cứu\\n\\nChỉ sử dụng tài liệu vào mục đích học tập và nghiên cứu\\n\\n\\n\\nChỉ sử dụng tài liệu vào mục đích học tập và nghiên cứu\\n\\nChỉ sử dụng tài liệu vào mục đích học tập và nghiên cứu\\n\\n\\n\\nChỉ sử dụng tài liệu vào mục đích học tập và nghiên cứu\\n\\nChỉ sử dụng tài liệu vào mục đích học tập và nghiên cứu\\n\\n\\n\\nChỉ sử dụng tài liệu vào mục đích học tập và nghiên cứu\\n\\nChỉ sử dụng tài liệu vào mục đích học tập và nghiên cứu\\n\\n\\t\\tRỐI LOẠN TRẦM CẢM\\n\\n\\t\\tRối loạn điều hòa khí sắc ( Disruptive mood dysregulayion Disorder)\\n\\nMã số: 296.99 (F34.8)\\n\\n\\t\\tCác cơn bùng nổ cảm xúc trầm trọngtái diễn dai dẳng, thể hiện dưới dạng ngôn ngữ (ví dụ cơn giận dữ) và /hoặc hành vi (ví dụ, xâm hại người khác hoặc phá hoại tài sản) hoàn toàn không tương thích với hoàn cảnh hoặc cường độ kích thích.\\n\\n\\t\\tCác cơn bùng nổ không tương thích với mức độ phát triển.\\n\\n\\t\\tCác cơn bùng nổ xuất hiện trung bình khoảng 3 lần (hoặc hơn) trong một tuần.\\n\\n\\t\\tGiữa 2 lần bùng nổ, khí sắc thường là trạng thái kích thích hoặc bực bội, kéo dài dai dẳng, gần như suốt ngày, hầu như ngày nào cũng trong tình trạng như vậy. Người xung quanh (ví dụ, cha mẹ, giáo viên, bạn bè) đều dễ dàng nhận thấy tình trạng này.\\n\\n\\t\\tNhững biểu hiện như trong tiêu chuẩn A-D kéo dài ít nhất 12 tháng. Trong khoảng thời gian này, không có giai đoạn nào kéo dài đến 3 tháng mà không có bất kì một triệu chứng nào trong các tiêu chuẩn A-D.\\n\\n\\t\\tTiêu chuẩn A và D phải xuất hiện trong 2 (hoặc nhiều hơn) hoàn cảnh (ví dụ, ở nhà, ở trường học, với bạn bè), mức độ nặng thể hiện ở ít nhất trong một hoàn cảnh.\\n\\n\\t\\tChẩn đoán lần đầu được đưa ra trước 6 tuổi hoặc sau 18 tuổi.\\n\\n\\t\\tTrong tiền sử hoặc đã được quan sát thấy các triệu chứng trong tiêu chuẩn A- E khởi phát trước 10 tuổi.\\n\\n\\t\\tKhông có một khoảng thời gian nào kéo dài đến 1 tháng (hoặc hơn), trong đó có đủ các tiêu chuẩn, trừ tiêu chuẩn thời gian, đáp ứng chẩn đoán giai đoạn hưng cảm hoặc hưng cảm nhẹ. Chú ý: không nên xem những biểu hiện cảm xúc theo lứa tuổi, ví dụ, những cảm xúc liên quan đến một sự kiện gây nhiều cảm xúc tích cực hoặc chờ đợi nó, là những triệu chứng của hưng cảm hoặc hưng cảm nhẹ.\\n\\n\\t\\tCác hành vi không xuất hiện chỉ trong giai đoạn rối loạn trầm cảm chủ yếu và không thể được giải thích tốt hơn bởi một rối loạn tâm thần khác (ví dụ, rối loạn phổ tự kỉ, PTSD, rối loạn lo âu chia tách, rối loạn trầm cảm dai dẳng/loạn khí sắc).\\n\\nChú ý: Chẩn đoán không được đặt ra đồng thời với rối loạn hành vi chống đối, rối loạn bùng nổ từng cơn, hoặc rối loạn lưỡng cực, mặc dù có thể nó đi cùng với các chẩn đoán khác, trong đó có rối loạn trầm cảm chủ yếu, tăng động/giảm chú ý, rối loạn hành vi đạo đức (conduct disorder) và rối loạn sử dụng chất. Những người có các triệu chứng đáp ứng tiêu chuẩn cả hai chẩn đoán: rối loạn điều hòa khí sắc và rối loạn hành vi chống đối thì chỉ đưa ra chẩn đoán rối loạn điều hòa khí sắc. Nếu cá nhân đã từng có giai đoạn hưng cảm hoặc hưng cảm nhẹ thì không nên ấn định rối loạn điều hòa khí sắc.\\n\\n\\t\\tCác triệu chứng không phải là do tác dụng sinh lí của một chất hoặc một bệnh cơ thể hay bệnh thần kinh khác.\\n\\nChẩn đoán phân biệt:\\n\\n\\t\\tRối loạn lưỡng cực\\n\\n\\t\\tRối loạn hành vi chống đối\\n\\n\\t\\tADHD, rối loạn trầm cảm chủ yếu, các rối loạn lo âu, rối loạn phổ tự kỉ\\n\\n\\t\\tRối loạn bùng nổ từng cơn.\\n\\n\\t\\tRối loạn trầm cảm chủ yếu (Major Depressive Disorder)\\n\\n\\t\\tNăm (hoặc hơn) trong số các triệu chứng sau được biểu hiện trong thời gian 2 tuần và biểu hiện một số sự thay đổi mức độ chức năng trước đây, có ít nhất 1 trong các triệu chứng hoặc là (1) khí sắc giảm, hoặc là (2) mất thích thú/sở thích. Ghi chú : Không bao gồm các triệu chứng là hậu quả rõ ràng của bệnh cơ thể hoặc hoang tưởng hoặc ảo giác không phù hợp với khí sắc.\\n\\n\\t\\tKhí sắc giảm ở phần lớn thời gian trong ngày, hầu như hằng ngày, nhận biết hoặc bởi chính bệnh nhân (ví dụ: cảm giác buồn hoặc cảm xúc trống rỗng) hoặc được quan sát bởi người khác (ví dụ: thấy bệnh nhân khóc). Ghi chú: ở trẻ em và vị thành niên khí sắc có thể bị kích thích.\\n\\n\\t\\tGiảm sút rõ ràng các thích thú/sở thích ở tất cả hoặc hầu như tất cả các hoạt động, có phần lớn thời gian trong ngày, hầu như hằng ngày (được chỉ ra hoặc bởi bệnh nhân, hoặc từ sự quan sát của người khác).\\n\\n\\t\\tGiảm cân rõ ràng, cả khi không ăn kiêng, hoặc tăng cân (ví dụ: thay đổi hơn 5% trọng lượng cơ thể trong một tháng), giảm hoặc tăng cảm giác ngon miệng hầu như hằng ngày. Lưu ý: trẻ em mất khả năng đạt được cân nặng cần thiết.\\n\\n\\t\\tMất ngủ hoặc ngủ nhiều hầu như hằng ngày.\\n\\n\\t\\tKích động hoặc vận động tâm thần chậm hầu như hằng ngày (được quan sát bởi người khác, không chỉ cảm giác của bệnh nhân là không yên tĩnh hoặc chậm chạp).\\n\\n\\t\\tMệt mỏi hoặc mất năng lượng hầu như hằng ngày.\\n\\n\\t\\tCảm giác vô dụng hoặc tội lỗi quá mức (có thể là hoang tưởng) hầu như hằ ng ngày (không chỉ là tự khiểm trách hoặc kết tội liên quan đến các vấn đề mắc phải).\\n\\n\\t\\tGiảm khả năng suy nghĩ, tập trung chú ý hoặc khó đưa ra quyết định hầu như\\n\\nhằng ngày (bệnh nhân tự thấy, hoặc người khác nhận thấy).\\n\\n\\t\\tÝ nghĩ tiếp tục về cái chết (không chỉ là sợ chết), ý định tự sát tái diễn không có một kế hoạch trước, một hành vi tự sát hoặc một kế hoạch cụ thể để tự sát thành công.\\n\\n\\t\\tCác triệu chứng không thoả mãn cho một giai đoạn hỗn hợp.\\n\\n\\t\\tCác triệu chứng được biểu hiện rõ ràng, là nguyên nhân ảnh hưởng đến các\\n\\nlĩnh vực xã hội, nghề nghiệp hoặc trong các lĩnh vực quan trọng khác.\\n\\n\\t\\tCác triệu chứng không phải là hậu quả sinh lí trực tiếp của một chất (ví dụ:\\n\\nma tuý, thuốc) hoặc do một bệnh cơ thể (ví dụ: bệnh nhược giáp).\\n\\n\\t\\tCác triệu chứng không được giải thích tốt bởi có tang, nghĩa là sau khi mất người thân, các triệu chứng bền vững hơn 2 tháng, được đặc trưng bởi rối loạn chức năng rõ ràng, có ý nghĩ mình là vô dụng, ý tưởng tự sát, các triệu chứng loạn thần hoặc vận động tâm thần chậm.\\n\\nChẩn đoán phân biệt:\\n\\n\\t\\tGiai đoạn hưng cảm kèm theo những phản ứng cáu gắt (prominent irritable) hoặc pha hỗn hợp.\\n\\n\\t\\tRối loạn khí sắc do một bệnh cơ thể khác.\\n\\n\\t\\tRối loạn trầm cảm do một chất/thuốc hoặc rối loạn lưỡng cực.\\n\\n\\t\\tRối loạn tăng động/ giảm chú ý.\\n\\n\\t\\tRối loạn thích ứng có khí sắc trầm cảm.\\n\\n\\t\\t\\tRối loạn trầm cảm dai dẳng (loạn khí sắc) (Persistent Depressive\\n\\nDisorder/Dysthymia)\\n\\n\\t\\tKhí sắc giảm trong phần lớn của ngày, nhiều ngày có hơn là ngày không, được bệnh nhân nhận thấy hoặc được quan sát bởi người khác trong thời gian ít nhất 2 năm. Lưu ý: ở trẻ em và vị thành niên khí sắc có thể là bị kích thích và thời gian cần ít nhất là 1 năm.\\n\\n\\t\\tBiểu hiện trong thời gian trầm cảm 2 hoặc hơn các triệu chứng sau:\\n\\n\\t\\tGiảm cảm giác ngon miệng hoặc ăn quá nhiều.\\n\\n\\t\\tÍt ngủ hoặc ngủ nhiều.\\n\\n\\t\\tGiảm năng lượng và mệt mỏi.\\n\\n\\t\\tTự tin giảm.\\n\\n\\t\\tGiảm khả năng tập trung hoặc khó quyết định.\\n\\n\\t\\tCảm giác tuyệt vọng.\\n\\n\\t\\tTrong giai đoạn kéo dài 2 năm (một năm cho trẻ em hoặc vị thành niên) bệnh nhân không bao giờ không có các triệu chứng thoả mãn tiêu chuẩn A và B trong thời gian kéo dài hơn 2 tháng, mỗi lần.\\n\\n\\t\\tKhông một giai đoạn trầm cảm nào biểu hiện trong thời gian 2 năm đầu của tổn thương (một năm cho trẻ em và vị thành niên), nghĩa là bệnh không được giải thích tốt hơn bởi rối loạn trầm cảm chủ yếu mãn tính hoặc rối loạn trầm cảm chủ yếu có lui bệnh một phần. Lưu ý: có thể có một giai đoạn trầm cảm chủ yếu trước đó với điều kiện đã có lui bệnh hoàn toàn (không có các dấu hiệu và triệu chứng trong vòng 2 tháng) trước khi xuất hiện rối loạn khí sắc. Ngoài ra, sau 2 năm đầu (một năm với trẻ em và vị thành niên) của rối loạn khí sắc, có thể có các giai đoạn trầm cảm chủ yếu, trong trường hợp này, sẽ được đặt cả 2 chẩn đoán khi thoả mãn các tiêu chuẩn cho giai đoạn trầm cảm chủ yếu.\\n\\n\\t\\tKhông bao giờ có một giai đoạn hưng cảm, pha trộn hoặc hưng cảm nhẹ và không bao giờ thoả mãn các tiêu chuẩn cho rối loạn khí sắc chu kì.\\n\\n\\t\\tRối loạn không xuất hiện trong phạm vi một loạn thần mạn tính như TTPL\\n\\nhoặc rối loạn hoang tưởng.\\n\\n\\t\\tRối loạn không phải là kết quả sinh lí trực tiếp của một chất (ví dụ ma tuý, thuốc) hoặc một bệnh cơ thể (ví dụ nhược giáp).\\n\\n\\t\\tCác triệu chứng là nguyên nhân ảnh hưởng lâm sàng rõ ràng trong các lĩnh vực xã hội, nghề nghiệp hoặc trong các lĩnh vực chức năng quan trọng khác. Được biệt định nếu như :\\n\\n\\t\\tKhởi phát sớm: nếu khởi phát xuất hiện trước năm 21 tuổi.\\n\\n\\t\\tKhởi phát muộn: nếu khởi phát ở tuổi 21 hoặc muộn hơn.\\n\\n\\t\\tCó yếu tố không đặc trưng.\\n\\nChẩn đoán phân biệt:\\n\\n\\t\\tChẩn đoán phân biệt giữa loạn khí sắc và rối loạn trầm cảm chủ yếu là rất khó do thực tế là cả 2 rối loạn có triệu chứng giống nhau nhưng sự khác biệt giữa chúng ở giai đoạn khởi phát, độ dài, độ bền và mức độ nặng không dễ đánh giá hồi cứu.\\n\\nRối loạn trầm cảm chủ yếu được xác định từ một hoặc nhiều giai đoạn trầm cảm chủ yếu riêng rẽ có các giai đoạn lui bệnh giữa các cơn trầm cảm chủ yếu, trong khi loạn khí sắc được đặc trưng bởi các triệu chứng trầm cảm nhẹ và biểu hiện liên tục trong nhiều năm.\\n\\n\\t\\tCác triệu chứng trầm cảm có thể là một yếu tố phối hợp thường xuyên của rối loạn tâm thần mạn tính (ví dụ của rối loạn phân liệt cảm xúc, TTPL, rối loạn hoang tưởng). Một chẩn đoán riêng rẽ rối loạn khí sắc không đặt ra nếu như các triệu chứng xuất hiện chỉ trong phạm vi của RLTT (bao gồm cả pha di chứng).\\n\\n- Rối loạn khí sắc cần được phân biệt với rối loạn cảm xúc do một bệnh cơ thể. Chẩn đoán là rối loạn cảm xúc do bệnh cơ thể, có yếu tố trầm cảm, nếu như các\\n\\nrối loạn cảm xúc được coi là kết quả sinh lí trực tiếp của bệnh cơ thể, thường là bệnh mãn tính (vữa xơ động mạch). Điểm nhấn mạnh này được đặt cơ sở trên tiền sử, số liệu cận lâm sàng, khám cơ thể.\\n\\n\\t\\tMột rối loạn cảm xúc tạo ra bởi một chất được phân biệt với rối loạn khí sắc từ thực tế là bệnh nhân có sử dụng một chất (ví dụ ma tuý, thuốc hoặc chất độc) được coi là bệnh sinh trong liên quan với rối loạn cảm xúc.\\n\\n\\t\\tBệnh nhân loạn khí sắc thường có rối loạn nhân cách phối hợp. Khi bảng lâm sàng của một bệnh nhân thoả mãn các tiêu chuẩn cho cả rối loạn khí sắc và rối loạn nhân cách, cả 2 chẩn đoán đều được đặt ra.\\n\\n\\t\\tRối loạn cảm xúc tiền kinh nguyệt (Premenstrual Dysphoric Disorder)\\n\\nMã số: 625.4 (N94.3)\\n\\n\\t\\tTrong phần lớn các chu kì kinh nguyệt, ít nhất có 5 triệu chứng xuất hiện trong tuần cuối của chu kì, khá lên trong vài ngày sau khi hành kinh và ở mức độ tối thiểu hoặc hết các triệu chứng ở tuần sau hành kinh.\\n\\n\\t\\tCó 1 (hoặc nhiều hơn) trong số các triệu chứng dưới đây:\\n\\n\\t\\tCảm xúc dao động đáng kể (ví dụ, thay đổi tâm trạng nhanh, đột nhiên cảm thấy buồn, tăng nhạy cảm với những từ chối).\\n\\n\\t\\tTăng kích thích hoặc tăng xung đột với người khác.\\n\\n\\t\\tKhí sắc trầm rõ rệt, cảm giác vô vọng hoặc những ý nghĩ chống lại chính mình.\\n\\n\\t\\tTâm trạng lo âu, căng thẳng rõ rệt và/hoặc cảm giác bị kích động (being keyed up ) hoặc nguy khốn(on edge).\\n\\n\\t\\tCần phải có thêm ít nhất 1 trong số các triệu chứng dưới đây, kết hợp với 4 triệu chứng ở tiêu chuẩn B để cho đủ ít nhất 5 triệu chứng:\\n\\n\\t\\tGiảm hứng thú đối với các hoạt động thường ngày (ví dụ, làm việc, học tập, gặp gỡ bạn bè, những sở thích cá nhân).\\n\\n\\t\\tCảm thấy khó tập trung.\\n\\n\\t\\tTrạng thái bơ phờ, dễ mệt mỏi hoặc thiếu năng lượng rõ rệt.\\n\\n\\t\\tThay đổi rõ rệt về khẩu vị; ăn nhiều hoặc quá thèm một loại thức ăn nào đó.\\n\\n\\t\\tNgủ nhiều hoặc mất ngủ.\\n\\n\\t\\tCảm giác bị vùi dập hoặc mất kiểm soát.\\n\\n\\t\\tCác triệu chứng cơ thể như: vú bị mềm nhẽo hoặc căng lên;kết hợp với hoặc\\n\\nđau cơ hoặc tăng cân.\\n\\nChú ý: các triệu chứng trong tiêu chuẩn A-C phải xuất hiện trong phần lớn các chu kì kinh nguyệt trong năm vừa qua.\\n\\n\\t\\tCác triệu chứng liên quan rõ rệt với đau khổ (distress) hoặc gây cản trởcông việc, học tập, các hoạt động xã hội thông thường hoặc mối quan hệ với những người khác (ví dụ, né tránh các hoạt động xã hội, giảm năng suất và hiệu quả lao động, học tập hoặc ở nhà).\\n\\n\\t\\tRối loạn không chỉ đơn thuần là sự trầm trọng thêm các triệu chứng của một rối loạn khác, dạng như rối loạn trầm cảm chủ yếu, rối loạn hoảng sợ, rối loạn\\n\\ntrầm cảm dai dẳng (loạn khí sắc) hoặc rối loạn nhân cách (mặc dù nó có thể xuất hiện cùng với những rối loạn này).\\n\\n\\t\\tTiêu chuẩn A phải được qua theo dõi liên tục hằng ngày trong ít nhất là 2 chu kì liên tiếp (Chú ý: chẩn đoán được đặt là tạm thời trước khi có sự khẳng định như trên).\\n\\n\\t\\tCác triệu chứng không thể quy cho hậu quả sinh lí của việc sử dụng chất (ví dụ, lạm dụng matúy, thuốc hoặc các liệu pháp khác) hoặc do một bệnh cơ thể khác (ví dụ, cường giáp).\\n\\n\\t\\tRối loạn trầm cảm do một bệnh cơ thể\\n\\n\\t\\tMột giai đoạn nổi lên trong bệnh cảnh lâm sàng là khí sắc trầm kéo dài hoặc giảm đáng kể hứng thú và/hoặc hoặc các giải trí hoạt động .\\n\\n\\t\\tTrong tiền sử, kết quả thăm khám hoặc các xét nghiệm có bằng chứng cho thấy rối loạn là hậu quả sinh lí bệnh trực tiếp của một bệnh cơ thể khác.\\n\\n\\t\\tRối loạn này không được giải thích tốt hơn bởi một RLTT khác (ví dụ: rối loạn thích ứng có khí sắc trầm cảm, trong đó tác nhân gây stress là một bệnh cơ thể nặng).\\n\\n\\t\\tRối loạn không xuất hiệnchỉ ở trong trạng thái sảng.\\n\\n\\t\\tRối loạn gây ra những đau khổ (distress) đáng kể về lâm sàng hoặc làm tổn thiệt đến các chức năng về xã hội, nghề nghiệp hay các lĩnh vực quan trọng khác.\\n\\n\\n\\n5\\n\\n\\n\\n4\\n\\n\\n\\n1\\n\\n\\n\\n6\\n\\n\\n\\n2\\n\\n\\n\\n3')\n",
      "('mimetype', 'text/plain')\n",
      "('start_char_idx', None)\n",
      "('end_char_idx', None)\n",
      "('text_template', '{metadata_str}\\n\\n{content}')\n",
      "('metadata_template', '{key}: {value}')\n",
      "('metadata_seperator', '\\n')\n"
     ]
    }
   ],
   "source": [
    "for i in documents[0]:\n",
    "    print(i)"
   ]
  },
  {
   "cell_type": "code",
   "execution_count": 6,
   "metadata": {},
   "outputs": [
    {
     "name": "stdout",
     "output_type": "stream",
     "text": [
      "Chỉ sử dụng tài liệu vào mục đích học tập và nghiên cứu\n",
      "\n",
      "Chỉ sử dụng tài liệu vào mục đích học tập và nghiên cứu\n",
      "\n",
      "\n",
      "\n",
      "Chỉ sử dụng tài liệu vào mục đích học tập và nghiên cứu\n",
      "\n",
      "Chỉ sử dụng tài liệu vào mục đích học tập và nghiên cứu\n",
      "\n",
      "\n",
      "\n",
      "Chỉ sử dụng tài liệu vào mục đích học tập và nghiên cứu\n",
      "\n",
      "Chỉ sử dụng tài liệu vào mục đích học tập và nghiên cứu\n",
      "\n",
      "\n",
      "\n",
      "Chỉ sử dụng tài liệu vào mục đích học tập và nghiên cứu\n",
      "\n",
      "Chỉ sử dụng tài liệu vào mục đích học tập và nghiên cứu\n",
      "\n",
      "\n",
      "\n",
      "Chỉ sử dụng tài liệu vào mục đích học tập và nghiên cứu\n",
      "\n",
      "Chỉ sử dụng tài liệu vào mục đích học tập và nghiên cứu\n",
      "\n",
      "\n",
      "\n",
      "Chỉ sử dụng tài liệu vào mục đích học tập và nghiên cứu\n",
      "\n",
      "Chỉ sử dụng tài liệu vào mục đích học tập và nghiên cứu\n",
      "\n",
      "\t\tRỐI LOẠN TRẦM CẢM\n",
      "\n",
      "\t\tRối loạn điều hòa khí sắc ( Disruptive mood dysregulayion Disorder)\n",
      "\n",
      "Mã số: 296.99 (F34.8)\n",
      "\n",
      "\t\tCác cơn bùng nổ cảm xúc trầm trọngtái diễn dai dẳng, thể hiện dưới dạng ngôn ngữ (ví dụ cơn giận dữ) và /hoặc hành vi (ví dụ, xâm hại người khác hoặc phá hoại tài sản) hoàn toàn không tương thích với hoàn cảnh hoặc cường độ kích thích.\n",
      "\n",
      "\t\tCác cơn bùng nổ không tương thích với mức độ phát triển.\n",
      "\n",
      "\t\tCác cơn bùng nổ xuất hiện trung bình khoảng 3 lần (hoặc hơn) trong một tuần.\n",
      "\n",
      "\t\tGiữa 2 lần bùng nổ, khí sắc thường là trạng thái kích thích hoặc bực bội, kéo dài dai dẳng, gần như suốt ngày, hầu như ngày nào cũng trong tình trạng như vậy. Người xung quanh (ví dụ, cha mẹ, giáo viên, bạn bè) đều dễ dàng nhận thấy tình trạng này.\n",
      "\n",
      "\t\tNhững biểu hiện như trong tiêu chuẩn A-D kéo dài ít nhất 12 tháng. Trong khoảng thời gian này, không có giai đoạn nào kéo dài đến 3 tháng mà không có bất kì một triệu chứng nào trong các tiêu chuẩn A-D.\n",
      "\n",
      "\t\tTiêu chuẩn A và D phải xuất hiện trong 2 (hoặc nhiều hơn) hoàn cảnh (ví dụ, ở nhà, ở trường học, với bạn bè), mức độ nặng thể hiện ở ít nhất trong một hoàn cảnh.\n",
      "\n",
      "\t\tChẩn đoán lần đầu được đưa ra trước 6 tuổi hoặc sau 18 tuổi.\n",
      "\n",
      "\t\tTrong tiền sử hoặc đã được quan sát thấy các triệu chứng trong tiêu chuẩn A- E khởi phát trước 10 tuổi.\n",
      "\n",
      "\t\tKhông có một khoảng thời gian nào kéo dài đến 1 tháng (hoặc hơn), trong đó có đủ các tiêu chuẩn, trừ tiêu chuẩn thời gian, đáp ứng chẩn đoán giai đoạn hưng cảm hoặc hưng cảm nhẹ. Chú ý: không nên xem những biểu hiện cảm xúc theo lứa tuổi, ví dụ, những cảm xúc liên quan đến một sự kiện gây nhiều cảm xúc tích cực hoặc chờ đợi nó, là những triệu chứng của hưng cảm hoặc hưng cảm nhẹ.\n",
      "\n",
      "\t\tCác hành vi không xuất hiện chỉ trong giai đoạn rối loạn trầm cảm chủ yếu và không thể được giải thích tốt hơn bởi một rối loạn tâm thần khác (ví dụ, rối loạn phổ tự kỉ, PTSD, rối loạn lo âu chia tách, rối loạn trầm cảm dai dẳng/loạn khí sắc).\n",
      "\n",
      "Chú ý: Chẩn đoán không được đặt ra đồng thời với rối loạn hành vi chống đối, rối loạn bùng nổ từng cơn, hoặc rối loạn lưỡng cực, mặc dù có thể nó đi cùng với các chẩn đoán khác, trong đó có rối loạn trầm cảm chủ yếu, tăng động/giảm chú ý, rối loạn hành vi đạo đức (conduct disorder) và rối loạn sử dụng chất. Những người có các triệu chứng đáp ứng tiêu chuẩn cả hai chẩn đoán: rối loạn điều hòa khí sắc và rối loạn hành vi chống đối thì chỉ đưa ra chẩn đoán rối loạn điều hòa khí sắc. Nếu cá nhân đã từng có giai đoạn hưng cảm hoặc hưng cảm nhẹ thì không nên ấn định rối loạn điều hòa khí sắc.\n",
      "\n",
      "\t\tCác triệu chứng không phải là do tác dụng sinh lí của một chất hoặc một bệnh cơ thể hay bệnh thần kinh khác.\n",
      "\n",
      "Chẩn đoán phân biệt:\n",
      "\n",
      "\t\tRối loạn lưỡng cực\n",
      "\n",
      "\t\tRối loạn hành vi chống đối\n",
      "\n",
      "\t\tADHD, rối loạn trầm cảm chủ yếu, các rối loạn lo âu, rối loạn phổ tự kỉ\n",
      "\n",
      "\t\tRối loạn bùng nổ từng cơn.\n",
      "\n",
      "\t\tRối loạn trầm cảm chủ yếu (Major Depressive Disorder)\n",
      "\n",
      "\t\tNăm (hoặc hơn) trong số các triệu chứng sau được biểu hiện trong thời gian 2 tuần và biểu hiện một số sự thay đổi mức độ chức năng trước đây, có ít nhất 1 trong các triệu chứng hoặc là (1) khí sắc giảm, hoặc là (2) mất thích thú/sở thích. Ghi chú : Không bao gồm các triệu chứng là hậu quả rõ ràng của bệnh cơ thể hoặc hoang tưởng hoặc ảo giác không phù hợp với khí sắc.\n",
      "\n",
      "\t\tKhí sắc giảm ở phần lớn thời gian trong ngày, hầu như hằng ngày, nhận biết hoặc bởi chính bệnh nhân (ví dụ: cảm giác buồn hoặc cảm xúc trống rỗng) hoặc được quan sát bởi người khác (ví dụ: thấy bệnh nhân khóc). Ghi chú: ở trẻ em và vị thành niên khí sắc có thể bị kích thích.\n",
      "\n",
      "\t\tGiảm sút rõ ràng các thích thú/sở thích ở tất cả hoặc hầu như tất cả các hoạt động, có phần lớn thời gian trong ngày, hầu như hằng ngày (được chỉ ra hoặc bởi bệnh nhân, hoặc từ sự quan sát của người khác).\n",
      "\n",
      "\t\tGiảm cân rõ ràng, cả khi không ăn kiêng, hoặc tăng cân (ví dụ: thay đổi hơn 5% trọng lượng cơ thể trong một tháng), giảm hoặc tăng cảm giác ngon miệng hầu như hằng ngày. Lưu ý: trẻ em mất khả năng đạt được cân nặng cần thiết.\n",
      "\n",
      "\t\tMất ngủ hoặc ngủ nhiều hầu như hằng ngày.\n",
      "\n",
      "\t\tKích động hoặc vận động tâm thần chậm hầu như hằng ngày (được quan sát bởi người khác, không chỉ cảm giác của bệnh nhân là không yên tĩnh hoặc chậm chạp).\n",
      "\n",
      "\t\tMệt mỏi hoặc mất năng lượng hầu như hằng ngày.\n",
      "\n",
      "\t\tCảm giác vô dụng hoặc tội lỗi quá mức (có thể là hoang tưởng) hầu như hằ ng ngày (không chỉ là tự khiểm trách hoặc kết tội liên quan đến các vấn đề mắc phải).\n",
      "\n",
      "\t\tGiảm khả năng suy nghĩ, tập trung chú ý hoặc khó đưa ra quyết định hầu như\n",
      "\n",
      "hằng ngày (bệnh nhân tự thấy, hoặc người khác nhận thấy).\n",
      "\n",
      "\t\tÝ nghĩ tiếp tục về cái chết (không chỉ là sợ chết), ý định tự sát tái diễn không có một kế hoạch trước, một hành vi tự sát hoặc một kế hoạch cụ thể để tự sát thành công.\n",
      "\n",
      "\t\tCác triệu chứng không thoả mãn cho một giai đoạn hỗn hợp.\n",
      "\n",
      "\t\tCác triệu chứng được biểu hiện rõ ràng, là nguyên nhân ảnh hưởng đến các\n",
      "\n",
      "lĩnh vực xã hội, nghề nghiệp hoặc trong các lĩnh vực quan trọng khác.\n",
      "\n",
      "\t\tCác triệu chứng không phải là hậu quả sinh lí trực tiếp của một chất (ví dụ:\n",
      "\n",
      "ma tuý, thuốc) hoặc do một bệnh cơ thể (ví dụ: bệnh nhược giáp).\n",
      "\n",
      "\t\tCác triệu chứng không được giải thích tốt bởi có tang, nghĩa là sau khi mất người thân, các triệu chứng bền vững hơn 2 tháng, được đặc trưng bởi rối loạn chức năng rõ ràng, có ý nghĩ mình là vô dụng, ý tưởng tự sát, các triệu chứng loạn thần hoặc vận động tâm thần chậm.\n",
      "\n",
      "Chẩn đoán phân biệt:\n",
      "\n",
      "\t\tGiai đoạn hưng cảm kèm theo những phản ứng cáu gắt (prominent irritable) hoặc pha hỗn hợp.\n",
      "\n",
      "\t\tRối loạn khí sắc do một bệnh cơ thể khác.\n",
      "\n",
      "\t\tRối loạn trầm cảm do một chất/thuốc hoặc rối loạn lưỡng cực.\n",
      "\n",
      "\t\tRối loạn tăng động/ giảm chú ý.\n",
      "\n",
      "\t\tRối loạn thích ứng có khí sắc trầm cảm.\n",
      "\n",
      "\t\t\tRối loạn trầm cảm dai dẳng (loạn khí sắc) (Persistent Depressive\n",
      "\n",
      "Disorder/Dysthymia)\n",
      "\n",
      "\t\tKhí sắc giảm trong phần lớn của ngày, nhiều ngày có hơn là ngày không, được bệnh nhân nhận thấy hoặc được quan sát bởi người khác trong thời gian ít nhất 2 năm. Lưu ý: ở trẻ em và vị thành niên khí sắc có thể là bị kích thích và thời gian cần ít nhất là 1 năm.\n",
      "\n",
      "\t\tBiểu hiện trong thời gian trầm cảm 2 hoặc hơn các triệu chứng sau:\n",
      "\n",
      "\t\tGiảm cảm giác ngon miệng hoặc ăn quá nhiều.\n",
      "\n",
      "\t\tÍt ngủ hoặc ngủ nhiều.\n",
      "\n",
      "\t\tGiảm năng lượng và mệt mỏi.\n",
      "\n",
      "\t\tTự tin giảm.\n",
      "\n",
      "\t\tGiảm khả năng tập trung hoặc khó quyết định.\n",
      "\n",
      "\t\tCảm giác tuyệt vọng.\n",
      "\n",
      "\t\tTrong giai đoạn kéo dài 2 năm (một năm cho trẻ em hoặc vị thành niên) bệnh nhân không bao giờ không có các triệu chứng thoả mãn tiêu chuẩn A và B trong thời gian kéo dài hơn 2 tháng, mỗi lần.\n",
      "\n",
      "\t\tKhông một giai đoạn trầm cảm nào biểu hiện trong thời gian 2 năm đầu của tổn thương (một năm cho trẻ em và vị thành niên), nghĩa là bệnh không được giải thích tốt hơn bởi rối loạn trầm cảm chủ yếu mãn tính hoặc rối loạn trầm cảm chủ yếu có lui bệnh một phần. Lưu ý: có thể có một giai đoạn trầm cảm chủ yếu trước đó với điều kiện đã có lui bệnh hoàn toàn (không có các dấu hiệu và triệu chứng trong vòng 2 tháng) trước khi xuất hiện rối loạn khí sắc. Ngoài ra, sau 2 năm đầu (một năm với trẻ em và vị thành niên) của rối loạn khí sắc, có thể có các giai đoạn trầm cảm chủ yếu, trong trường hợp này, sẽ được đặt cả 2 chẩn đoán khi thoả mãn các tiêu chuẩn cho giai đoạn trầm cảm chủ yếu.\n",
      "\n",
      "\t\tKhông bao giờ có một giai đoạn hưng cảm, pha trộn hoặc hưng cảm nhẹ và không bao giờ thoả mãn các tiêu chuẩn cho rối loạn khí sắc chu kì.\n",
      "\n",
      "\t\tRối loạn không xuất hiện trong phạm vi một loạn thần mạn tính như TTPL\n",
      "\n",
      "hoặc rối loạn hoang tưởng.\n",
      "\n",
      "\t\tRối loạn không phải là kết quả sinh lí trực tiếp của một chất (ví dụ ma tuý, thuốc) hoặc một bệnh cơ thể (ví dụ nhược giáp).\n",
      "\n",
      "\t\tCác triệu chứng là nguyên nhân ảnh hưởng lâm sàng rõ ràng trong các lĩnh vực xã hội, nghề nghiệp hoặc trong các lĩnh vực chức năng quan trọng khác. Được biệt định nếu như :\n",
      "\n",
      "\t\tKhởi phát sớm: nếu khởi phát xuất hiện trước năm 21 tuổi.\n",
      "\n",
      "\t\tKhởi phát muộn: nếu khởi phát ở tuổi 21 hoặc muộn hơn.\n",
      "\n",
      "\t\tCó yếu tố không đặc trưng.\n",
      "\n",
      "Chẩn đoán phân biệt:\n",
      "\n",
      "\t\tChẩn đoán phân biệt giữa loạn khí sắc và rối loạn trầm cảm chủ yếu là rất khó do thực tế là cả 2 rối loạn có triệu chứng giống nhau nhưng sự khác biệt giữa chúng ở giai đoạn khởi phát, độ dài, độ bền và mức độ nặng không dễ đánh giá hồi cứu.\n",
      "\n",
      "Rối loạn trầm cảm chủ yếu được xác định từ một hoặc nhiều giai đoạn trầm cảm chủ yếu riêng rẽ có các giai đoạn lui bệnh giữa các cơn trầm cảm chủ yếu, trong khi loạn khí sắc được đặc trưng bởi các triệu chứng trầm cảm nhẹ và biểu hiện liên tục trong nhiều năm.\n",
      "\n",
      "\t\tCác triệu chứng trầm cảm có thể là một yếu tố phối hợp thường xuyên của rối loạn tâm thần mạn tính (ví dụ của rối loạn phân liệt cảm xúc, TTPL, rối loạn hoang tưởng). Một chẩn đoán riêng rẽ rối loạn khí sắc không đặt ra nếu như các triệu chứng xuất hiện chỉ trong phạm vi của RLTT (bao gồm cả pha di chứng).\n",
      "\n",
      "- Rối loạn khí sắc cần được phân biệt với rối loạn cảm xúc do một bệnh cơ thể. Chẩn đoán là rối loạn cảm xúc do bệnh cơ thể, có yếu tố trầm cảm, nếu như các\n",
      "\n",
      "rối loạn cảm xúc được coi là kết quả sinh lí trực tiếp của bệnh cơ thể, thường là bệnh mãn tính (vữa xơ động mạch). Điểm nhấn mạnh này được đặt cơ sở trên tiền sử, số liệu cận lâm sàng, khám cơ thể.\n",
      "\n",
      "\t\tMột rối loạn cảm xúc tạo ra bởi một chất được phân biệt với rối loạn khí sắc từ thực tế là bệnh nhân có sử dụng một chất (ví dụ ma tuý, thuốc hoặc chất độc) được coi là bệnh sinh trong liên quan với rối loạn cảm xúc.\n",
      "\n",
      "\t\tBệnh nhân loạn khí sắc thường có rối loạn nhân cách phối hợp. Khi bảng lâm sàng của một bệnh nhân thoả mãn các tiêu chuẩn cho cả rối loạn khí sắc và rối loạn nhân cách, cả 2 chẩn đoán đều được đặt ra.\n",
      "\n",
      "\t\tRối loạn cảm xúc tiền kinh nguyệt (Premenstrual Dysphoric Disorder)\n",
      "\n",
      "Mã số: 625.4 (N94.3)\n",
      "\n",
      "\t\tTrong phần lớn các chu kì kinh nguyệt, ít nhất có 5 triệu chứng xuất hiện trong tuần cuối của chu kì, khá lên trong vài ngày sau khi hành kinh và ở mức độ tối thiểu hoặc hết các triệu chứng ở tuần sau hành kinh.\n",
      "\n",
      "\t\tCó 1 (hoặc nhiều hơn) trong số các triệu chứng dưới đây:\n",
      "\n",
      "\t\tCảm xúc dao động đáng kể (ví dụ, thay đổi tâm trạng nhanh, đột nhiên cảm thấy buồn, tăng nhạy cảm với những từ chối).\n",
      "\n",
      "\t\tTăng kích thích hoặc tăng xung đột với người khác.\n",
      "\n",
      "\t\tKhí sắc trầm rõ rệt, cảm giác vô vọng hoặc những ý nghĩ chống lại chính mình.\n",
      "\n",
      "\t\tTâm trạng lo âu, căng thẳng rõ rệt và/hoặc cảm giác bị kích động (being keyed up ) hoặc nguy khốn(on edge).\n",
      "\n",
      "\t\tCần phải có thêm ít nhất 1 trong số các triệu chứng dưới đây, kết hợp với 4 triệu chứng ở tiêu chuẩn B để cho đủ ít nhất 5 triệu chứng:\n",
      "\n",
      "\t\tGiảm hứng thú đối với các hoạt động thường ngày (ví dụ, làm việc, học tập, gặp gỡ bạn bè, những sở thích cá nhân).\n",
      "\n",
      "\t\tCảm thấy khó tập trung.\n",
      "\n",
      "\t\tTrạng thái bơ phờ, dễ mệt mỏi hoặc thiếu năng lượng rõ rệt.\n",
      "\n",
      "\t\tThay đổi rõ rệt về khẩu vị; ăn nhiều hoặc quá thèm một loại thức ăn nào đó.\n",
      "\n",
      "\t\tNgủ nhiều hoặc mất ngủ.\n",
      "\n",
      "\t\tCảm giác bị vùi dập hoặc mất kiểm soát.\n",
      "\n",
      "\t\tCác triệu chứng cơ thể như: vú bị mềm nhẽo hoặc căng lên;kết hợp với hoặc\n",
      "\n",
      "đau cơ hoặc tăng cân.\n",
      "\n",
      "Chú ý: các triệu chứng trong tiêu chuẩn A-C phải xuất hiện trong phần lớn các chu kì kinh nguyệt trong năm vừa qua.\n",
      "\n",
      "\t\tCác triệu chứng liên quan rõ rệt với đau khổ (distress) hoặc gây cản trởcông việc, học tập, các hoạt động xã hội thông thường hoặc mối quan hệ với những người khác (ví dụ, né tránh các hoạt động xã hội, giảm năng suất và hiệu quả lao động, học tập hoặc ở nhà).\n",
      "\n",
      "\t\tRối loạn không chỉ đơn thuần là sự trầm trọng thêm các triệu chứng của một rối loạn khác, dạng như rối loạn trầm cảm chủ yếu, rối loạn hoảng sợ, rối loạn\n",
      "\n",
      "trầm cảm dai dẳng (loạn khí sắc) hoặc rối loạn nhân cách (mặc dù nó có thể xuất hiện cùng với những rối loạn này).\n",
      "\n",
      "\t\tTiêu chuẩn A phải được qua theo dõi liên tục hằng ngày trong ít nhất là 2 chu kì liên tiếp (Chú ý: chẩn đoán được đặt là tạm thời trước khi có sự khẳng định như trên).\n",
      "\n",
      "\t\tCác triệu chứng không thể quy cho hậu quả sinh lí của việc sử dụng chất (ví dụ, lạm dụng matúy, thuốc hoặc các liệu pháp khác) hoặc do một bệnh cơ thể khác (ví dụ, cường giáp).\n",
      "\n",
      "\t\tRối loạn trầm cảm do một bệnh cơ thể\n",
      "\n",
      "\t\tMột giai đoạn nổi lên trong bệnh cảnh lâm sàng là khí sắc trầm kéo dài hoặc giảm đáng kể hứng thú và/hoặc hoặc các giải trí hoạt động .\n",
      "\n",
      "\t\tTrong tiền sử, kết quả thăm khám hoặc các xét nghiệm có bằng chứng cho thấy rối loạn là hậu quả sinh lí bệnh trực tiếp của một bệnh cơ thể khác.\n",
      "\n",
      "\t\tRối loạn này không được giải thích tốt hơn bởi một RLTT khác (ví dụ: rối loạn thích ứng có khí sắc trầm cảm, trong đó tác nhân gây stress là một bệnh cơ thể nặng).\n",
      "\n",
      "\t\tRối loạn không xuất hiệnchỉ ở trong trạng thái sảng.\n",
      "\n",
      "\t\tRối loạn gây ra những đau khổ (distress) đáng kể về lâm sàng hoặc làm tổn thiệt đến các chức năng về xã hội, nghề nghiệp hay các lĩnh vực quan trọng khác.\n",
      "\n",
      "\n",
      "\n",
      "5\n",
      "\n",
      "\n",
      "\n",
      "4\n",
      "\n",
      "\n",
      "\n",
      "1\n",
      "\n",
      "\n",
      "\n",
      "6\n",
      "\n",
      "\n",
      "\n",
      "2\n",
      "\n",
      "\n",
      "\n",
      "3\n"
     ]
    }
   ],
   "source": [
    "print(documents[0].text)"
   ]
  },
  {
   "cell_type": "markdown",
   "metadata": {},
   "source": [
    "### Load dữ liệu từ web - SimpleWebPageReader\n",
    "\n",
    "Ví dụ đọc dữ liệu trực tiếp từ một trang web"
   ]
  },
  {
   "cell_type": "code",
   "execution_count": 10,
   "metadata": {},
   "outputs": [
    {
     "name": "stdout",
     "output_type": "stream",
     "text": [
      "## [ ![Báo Sức khỏe & Đời sống - Cơ quan ngôn luận của Bộ Y\n",
      "tế](https://static.mediacdn.vn/suckhoedoisong/image/logo.svg) ](/ \"Báo Sức\n",
      "khỏe & Đời sống - Cơ quan ngôn luận của Bộ Y tế\")\n",
      "\n",
      "  * [ ](https://www.tiktok.com/@suckhoedoisong.vn? \"TikTok\")\n",
      "  * [ ](https://www.facebook.com/baosuckhoevadoisong/ \"Facebook\")\n",
      "  * [ ](https://www.youtube.com/channel/UCD09NCZlzMj4yGvGkLbuBpw \"YouTube\")\n",
      "\n",
      "Hà Nội\n",
      "\n",
      "  * [ ![Gia đình và Xã hội](https://static.mediacdn.vn/suckhoedoisong/image/logo_giadinhnet_v2.png) ](https://giadinh.suckhoedoisong.vn/ \"Gia đình và Xã hội\")\n",
      "  * [ ![Pháp luật và bạn đọc](https://static.mediacdn.vn/suckhoedoisong/image/logo_plbd.JPG) ](https://phapluat.suckhoedoisong.vn/ \"Pháp luật và bạn đọc\")\n",
      "  * [ ![Thời Đại Plus](https://static.mediacdn.vn/suckhoedoisong/image/logo_thoidaiplus.JPG) ](https://thoidaiplus.suckhoedoisong.vn/ \"Thời Đại Plus\")\n",
      "\n",
      "  * [ ](/ \"Trang chủ\")\n",
      "  * [ Y tế ](/y-te.htm \"Y tế \")\n",
      "  * [ Thời sự ](/thoi-su.htm \"Thời sự\")\n",
      "  * [ Tra cứu bệnh ](/tra-cuu-benh.htm \"Tra cứu bệnh\")\n",
      "  * [ Sức khỏe TV ](/suc-khoe-tv.htm \"Sức khỏe TV\")\n",
      "  * [ Y học 360 ](/y-hoc-360.htm \"Y học 360\")\n",
      "  * [ Dược ](/duoc.htm \"Dược\")\n",
      "  * [ Y học cổ truyền ](/y-hoc-co-truyen.htm \"Y học cổ truyền\")\n",
      "  * [ Giới tính ](/gioi-tinh.htm \"Giới tính\")\n",
      "  * [ Dinh dưỡng ](/dinh-duong.htm \"Dinh dưỡng\")\n",
      "  * [ Khỏe - Đẹp ](/khoe-dep.htm \"Khỏe - Đẹp\")\n",
      "  * [ Phòng mạch online ](/phong-mach-online.htm \"Phòng mạch online\")\n",
      "  * [ Thị trường ](/thi-truong.htm \"Thị trường\")\n",
      "\n",
      "[ ](javascript: \"Menu\")\n",
      "\n",
      "[Thời sự](/thoi-su.htm \"Thời sự\")\n",
      "\n",
      "[ Xã hội ](/thoi-su/xa-hoi.htm \"Xã hội\") [ Pháp luật ](/thoi-su/phap-luat.htm\n",
      "\"Pháp luật\") [ Quốc tế ](/thoi-su/quoc-te.htm \"Quốc tế\")\n",
      "\n",
      "[Y tế ](/y-te.htm \"Y tế \")\n",
      "\n",
      "[ Tin nóng y tế ](/y-te/tin-nong-y-te.htm \"Tin nóng y tế\") [ Thành tựu y khoa\n",
      "](/y-te/thanh-tuu-y-khoa.htm \"Thành tựu y khoa\") [ Blog thầy thuốc\n",
      "](/y-te/blog-thay-thuoc.htm \"Blog thầy thuốc\") [ Sự hi sinh thầm lặng\n",
      "](/y-te/su-hi-sinh-tham-lang.htm \"Sự hi sinh thầm lặng\") [ Camera bệnh viện\n",
      "](/y-te/camera-benh-vien.htm \"Camera bệnh viện\")\n",
      "\n",
      "[Tra cứu bệnh](/tra-cuu-benh.htm \"Tra cứu bệnh\")\n",
      "\n",
      "[Sức khỏe TV](/suc-khoe-tv.htm \"Sức khỏe TV\")\n",
      "\n",
      "[ Tọa đàm ](/suc-khoe-tv/toa-dam.htm \"Tọa đàm\") [ Giao lưu ](/suc-khoe-\n",
      "tv/giao-luu.htm \"Giao lưu\") [ Livestream ](/suc-khoe-tv/livestream.htm\n",
      "\"Livestream\")\n",
      "\n",
      "[Dược](/duoc.htm \"Dược\")\n",
      "\n",
      "[ An toàn dùng thuốc ](/duoc/an-toan-dung-thuoc.htm \"An toàn dùng thuốc\") [\n",
      "Thông tin dược học ](/duoc/thong-tin-duoc-hoc.htm \"Thông tin dược học\") [\n",
      "Thuốc mới ](/duoc/thuoc-moi.htm \"Thuốc mới\") [ Vaccine ](/duoc/vaccine.htm\n",
      "\"Vaccine\")\n",
      "\n",
      "[Y học cổ truyền](/y-hoc-co-truyen.htm \"Y học cổ truyền\")\n",
      "\n",
      "[ Thầy giỏi – thuốc hay ](/y-hoc-co-truyen/thay-gioi-thuoc-hay.htm \"Thầy giỏi\n",
      "– thuốc hay\") [ Bệnh viện - phòng khám ](/y-hoc-co-truyen/benh-vien-phong-\n",
      "kham.htm \"Bệnh viện - phòng khám\") [ Cây thuốc quanh ta ](/y-hoc-co-\n",
      "truyen/cay-thuoc-quanh-ta.htm \"Cây thuốc quanh ta\") [ Chữa bệnh không dùng\n",
      "thuốc ](/y-hoc-co-truyen/chua-benh-khong-dung-thuoc.htm \"Chữa bệnh không dùng\n",
      "thuốc\")\n",
      "\n",
      "Multimedia\n",
      "\n",
      "[ Emagazine ](/multimedia/emagazine.htm \"Emagazine\") [ Video\n",
      "](/multimedia/video.htm \"Video\") [ Infographic ](/multimedia/infographic.htm\n",
      "\"Infographic\")\n",
      "\n",
      "[Y học 360](/y-hoc-360.htm \"Y học 360\")\n",
      "\n",
      "[ Bệnh người cao tuổi ](/y-hoc-360/benh-nguoi-cao-tuoi.htm \"Bệnh người cao\n",
      "tuổi\") [ Bệnh thường gặp ](/y-hoc-360/benh-thuong-gap.htm \"Bệnh thường gặp\") [\n",
      "Bệnh phụ nữ ](/y-hoc-360/benh-phu-nu.htm \"Bệnh phụ nữ\") [ Bệnh nam giới\n",
      "](/y-hoc-360/benh-nam-gioi.htm \"Bệnh nam giới\") [ Bệnh trẻ em\n",
      "](/y-hoc-360/benh-tre-em.htm \"Bệnh trẻ em\") [ Sức khỏe tâm hồn\n",
      "](/y-hoc-360/suc-khoe-tam-hon.htm \"Sức khỏe tâm hồn\") [ Ung thư\n",
      "](/y-hoc-360/ung-thu.htm \"Ung thư\")\n",
      "\n",
      "[Khỏe - Đẹp](/khoe-dep.htm \"Khỏe - Đẹp\")\n",
      "\n",
      "[ Mỹ phẩm ](/khoe-dep/my-pham.htm \"Mỹ phẩm\") [ Thẩm mỹ ](/khoe-dep/tham-my.htm\n",
      "\"Thẩm mỹ\") [ Bài tập khỏe đẹp ](/khoe-dep/bai-tap-khoe-dep.htm \"Bài tập khỏe\n",
      "đẹp\")\n",
      "\n",
      "[Dinh dưỡng](/dinh-duong.htm \"Dinh dưỡng\")\n",
      "\n",
      "[ Dinh dưỡng mẹ và bé ](/dinh-duong/dinh-duong-me-va-be.htm \"Dinh dưỡng mẹ và\n",
      "bé\") [ Dinh dưỡng người cao tuổi ](/dinh-duong/dinh-duong-nguoi-cao-tuoi.htm\n",
      "\"Dinh dưỡng người cao tuổi\") [ Chế độ ăn người bệnh ](/dinh-duong/che-do-an-\n",
      "nguoi-benh.htm \"Chế độ ăn người bệnh\") [ Cảnh giác thực phẩm ](/dinh-\n",
      "duong/canh-giac-thuc-pham.htm \"Cảnh giác thực phẩm\") [ Thực phẩm chức năng\n",
      "](/dinh-duong/thuc-pham-chuc-nang.htm \"Thực phẩm chức năng\")\n",
      "\n",
      "[Giới tính](/gioi-tinh.htm \"Giới tính\")\n",
      "\n",
      "[ Hỏi đáp phòng the ](/gioi-tinh/hoi-dap-phong-the.htm \"Hỏi đáp phòng the\") [\n",
      "Sức khỏe sinh sản ](/gioi-tinh/suc-khoe-sinh-san.htm \"Sức khỏe sinh sản\") [\n",
      "Bệnh lây truyền ](/gioi-tinh/benh-lay-truyen.htm \"Bệnh lây truyền\")\n",
      "\n",
      "[Phòng mạch online](/phong-mach-online.htm \"Phòng mạch online\")\n",
      "\n",
      "[Thị trường](/thi-truong.htm \"Thị trường\")\n",
      "\n",
      "[ Nhãn hàng sai phạm ](/thi-truong/nhan-hang-sai-pham.htm \"Nhãn hàng sai\n",
      "phạm\") [ Doanh nghiệp ](/thi-truong/doanh-nghiep.htm \"Doanh nghiệp\")\n",
      "\n",
      "[Nhịp cầu Nhân ái](/nhip-cau-nhan-ai.htm \"Nhịp cầu Nhân ái\")\n",
      "\n",
      "[Văn hóa – Giải trí](/van-hoa-giai-tri.htm \"Văn hóa – Giải trí\")\n",
      "\n",
      "[Chuyên trang gia đình](https://giadinh.suckhoedoisong.vn/ \"Chuyên trang gia\n",
      "đình\")\n",
      "\n",
      "[Đời sống](/doi-song.htm \"Đời sống\")\n",
      "\n",
      "  * [ ](javascript: \"chia sẻ facebook\")\n",
      "  * [ ](https://twitter.com/intent/tweet?text=Việt Nam có khoảng 14 triệu người rối loạn tâm thần https://suckhoedoisong.vn/viet-nam-co-khoang-14-trieu-nguoi-roi-loan-tam-than-169230803214300404.htm \"chia sẻ twitter\")\n",
      "  * [](javascript: \"chia sẻ zalo\")\n",
      "  * [ ](javascript: \"copy link\")\n",
      "\n",
      "[ Y tế ](/y-te.htm \"Y tế \")\n",
      "\n",
      "[COVID-19](/y-te/covid-19.htm \"COVID-19\") [Tin nong y tế](/y-te/tin-nong-y-\n",
      "te.htm \"Tin nóng y tế\") [Thanh tựu y khoa](/y-te/thanh-tuu-y-khoa.htm \"Thành\n",
      "tựu y khoa\") [Blog thầy thuốc](/y-te/blog-thay-thuoc.htm \"Blog thầy thuốc\")\n",
      "[Sự hi sinh thầm lặng](/y-te/su-hi-sinh-tham-lang.htm \"Sự hi sinh thầm lặng\")\n",
      "[Camera bệnh viện](/y-te/camera-benh-vien.htm \"Camera bệnh viện\")\n",
      "\n",
      "# Việt Nam co khoảng 14 triệu người rối loạn tam thần\n",
      "\n",
      "03-08-2023 21:49 | [Y tế ](/y-te.htm \"Y tế \")\n",
      "\n",
      "[ ![](https://static.mediacdn.vn/suckhoedoisong/image/google-news.png)\n",
      "](https://news.google.com/publications/CAAqBwgKMJiepAwwqpazBA?hl=vi&gl=VN&ceid=VN%3Avi)\n",
      "\n",
      "## SKĐS - Việt Nam co khoảng 14 triệu người rối loạn tam thần nhưng chỉ co 143\n",
      "nha tam lý lam sang va tam lý trị liệu. Tuy nhien dịch vụ tam lý lam sang chưa\n",
      "phải la dịch vụ chinh thức được bảo hiểm y tế chi trả.\n",
      "\n",
      "  \n",
      "\n",
      "Ngày 3/8 tại Hà Nội, Cục Quản lý Khám chữa bệnh đã tổ chức Hội thảo Xây dựng\n",
      "đề án tăng cường năng lực hệ thống chăm sóc [sức khỏe tâm\n",
      "thần](https://suckhoedoisong.vn/6-thang-giam-dinh-suc-khoe-tam-than-\n",
      "gan-3000-vu-viec-169220812130342416.htm \"sức khỏe tâm thần\") giai đoạn\n",
      "2023-2030.\n",
      "\n",
      "## Dịch vụ sức khỏe tâm thần ở Việt Nam chủ yếu điều trị bằng thuốc\n",
      "\n",
      "TS Cao Hưng Thái - Phó Cục trưởng Cục Quản lý Khám, chữa bệnh cho biết, Việt\n",
      "Nam đang phải đối mặt với mô hình bệnh tật kép, bệnh truyền nhiễm diễn biến\n",
      "phức tạp trong đó các bệnh không lây nhiễm như tăng huyết áp, tiểu đường,\n",
      "COPD, bệnh tâm thần… có chiều hướng gia tăng.\n",
      "\n",
      "![Việt Nam có khoảng 14 triệu người rối loạn tâm thần  - Ảnh\n",
      "1.](https://suckhoedoisong.qltns.mediacdn.vn/324455921873985536/2023/8/3/suc-\n",
      "khoe-tam-than-1691072750229743473172.jpg)\n",
      "\n",
      "TS Cao Hưng Thái - Phó Cục trưởng Cục Quản lý Khám, chữa bệnh.\n",
      "\n",
      "Việt Nam cũng chịu những tác động to lớn do già hóa dân số, tỷ lệ người khuyết\n",
      "tật cao (khuyết tật thần kinh) và hậu quả từ [đại dịch\n",
      "COVID-19](https://suckhoedoisong.vn/ngay-3-8-co-25-ca-covid-19-moi-4-benh-\n",
      "nhan-dang-tho-oxy-16923080317353381.htm \"đại dịch COVID-19\"). Trong khi, so\n",
      "với các chuyên ngành khác, sức khỏe tâm thần là lĩnh vực sức khỏe cộng đồng ít\n",
      "được quan tâm hơn.\n",
      "\n",
      "Kết quả khảo sát năm 2022 của Cục quản lý Khám, chữa bệnh cho thấy có 61.3%\n",
      "(398/tổng số 649) Bệnh viện huyện/trung tâm y tế quận huyện tổ chức khám chữa\n",
      "bệnh ngoại trú cho người bệnh tâm thần, nhưng chỉ có 9.1% (59/649) cơ sở tuyến\n",
      "quận, huyện tổ chức khám, chữa bệnh nội trú cho người bệnh tâm thần. Kết quả\n",
      "này cho thầy khoảng trống lớn về điều trị rối loạn tâm thần tại tuyến quận,\n",
      "huyện.\n",
      "\n",
      "Dịch vụ sức khỏe tâm thần ở Việt Nam chủ yếu là điều trị bằng thuốc. Cả nước\n",
      "có khoảng 14 triệu người rối loạn tâm thần nhưng chỉ có 143 nhà tâm lý lâm\n",
      "sàng và tâm lý trị liệu. Tuy nhiên dịch vụ tâm lý lâm sàng chưa phải là dịch\n",
      "vụ chính thức được bảo hiểm y tế chi trả do vậy 143 nhà tâm lý lâm sàng và tâm\n",
      "lý trị liệu chủ yếu được coi là kỹ thuật viên và làm các trắc nghiệm tâm lý,\n",
      "không phải dịch vụ tâm lý lâm sàng thực sự.\n",
      "\n",
      "Các dịch vụ phục hồi chức năng tâm thần cũng rất hạn chế. Không có dịch vụ sức\n",
      "khoẻ tâm thần chính thức cho người dân bị tác động của thiên tai, thảm họa ví\n",
      "dụ như lũ lụt, hạn hán và dịch bệnh (như đại dịch COVID19).\n",
      "\n",
      "### Việt Nam đang đối mặt với tình trạng rối loạn tâm thần có xu hướng gia\n",
      "tăng\n",
      "\n",
      "Cũng như nhiều quốc gia trên thế giới, Việt Nam đang đối mặt với tình trạng\n",
      "rối loạn tâm thần có xu hướng gia tăng. Theo báo cáo của Bệnh viện Tâm thần\n",
      "Trung ương, tỷ lệ mắc 10 chứng rối loạn tâm thần phổ biến trong năm 2014 là\n",
      "14,2%, trong đó riêng rối loạn trầm cảm chiếm 2,45%. Tỷ lệ tự sát trong năm\n",
      "2015 là 5,87 trên 100.000 dân.  \n",
      "\n",
      "Theo Bệnh viện Nhi Đồng TP Hồ Chí Minh có tới 8-20% trẻ em và vị thành niên\n",
      "Việt Nam gặp các vấn đề sức khoẻ tâm thần chung. Nghiên cứu trên các nhóm đối\n",
      "tượng đặc biệt khác cũng cho thấy tỷ lệ trầm cảm trong khi mang thai là 5% và\n",
      "trầm cảm sau sinh là 8,2%, tỷ lệ mắc mới trầm cảm sau sinh là 6,5% (2018), tỷ\n",
      "lệ trầm cảm ở người bệnh ung thư phổi là 24,6% (2017).\n",
      "\n",
      "Hàng tỷ người trên thế giới đã bị ảnh hưởng bởi đại dịch COVID-19, đang có tác\n",
      "động sâu hơn đến sức khỏe tâm thần của con người, làm trầm trọng thêm tình\n",
      "trạng căng thẳng ngắn hạn và dài hạn và phá hủy sức khỏe tâm thần của hàng\n",
      "triệu người. Các ước tính cho thấy sự gia tăng của cả rối loạn lo âu và trầm\n",
      "cảm ở mức hơn 25% trong năm đầu tiên của đại dịch.\n",
      "\n",
      "Bên cạnh đó, nhận thức sai lầm và sự kỳ thị của xã hội đối với người bệnh mắc\n",
      "rối loạn tâm thần: đa số coi rối loạn tâm thần chỉ là tâm thần phân liệt mà\n",
      "không biết rằng rối loạn tâm thần có nhiều loại khác nhau như trầm cảm, lo âu,\n",
      "rối loạn tâm thần do rượu... Việc kỳ thị người bệnh mắc rối loạn tâm thần,\n",
      "không chấp nhận các chẩn đoán rối loạn tâm thần đưa đến sự chậm trễ trong quá\n",
      "trình chẩn đoán, điều trị và tìm đến các phương pháp điều trị cực đoan.\n",
      "\n",
      "Hầu hết người dân chưa được nhận dịch vụ chăm sóc sức khỏe tâm thần. Dịch vụ\n",
      "sức khoẻ tâm thần chủ yếu có ở cơ sở chuyên khoa tuyến trung ương và tỉnh.\n",
      "Tuyến huyện và xã chủ yếu quản lý, điều trị tâm thần phân liệt và động kinh,\n",
      "trong khi đó theo điều tra của Bệnh viện Tâm thần trung ương 1 thì 2 bệnh này\n",
      "chỉ chiếm khoảng 0,5% dân số và tổng các rối loạn tâm thần là 14,2% dân số.\n",
      "\n",
      "![Mất hứng thú và sở thích có thể là biểu hiện của rối loạn tâm\n",
      "thần.](https://suckhoedoisong.qltns.mediacdn.vn/324455921873985536/2022/6/13/roi-\n",
      "loan-tam-than-1-16551170914561317775029.jpg)\n",
      "\n",
      "Cũng như nhiều quốc gia trên thế giới, Việt Nam đang đối mặt với tình trạng\n",
      "rối loạn tâm thần có xu hướng gia tăng (Ảnh: minh hoạ)\n",
      "\n",
      "Ước tính 0,5% rối loạn tâm thần khác được điều trị tại cơ sở chuyên khoa, như\n",
      "vậy có tới trên 90% (13/14) người rối loạn tâm thần chưa được nhận dịch vụ\n",
      "chính thức, trong khi đó tình hình rối loạn tâm thần ngày càng gia tăng về số\n",
      "lượng cũng như đa dạng thêm về nhiều mặt bệnh như lo âu, nghiện chất, sa sút\n",
      "trí tuệ, tự kỷ, tăng động giảm chú ý…\n",
      "\n",
      "Tại Hội thảo, các đại biểu đã thảo luận các mục tiêu của Đề án như: Tăng cường\n",
      "lãnh đạo, điều hành, phối hợp liên ngành của các Bộ, ngành, chính quyền các\n",
      "cấp và huy động xã hội trong chăm sóc sức khỏe tâm thần; Nâng cao sức khỏe tâm\n",
      "thần và dự phòng các rối loạn tâm thần; Củng cố năng lực và tính hiệu quả của\n",
      "nguồn nhân lực sức khỏe tâm thần về dự phòng, giám sát, phát hiện, điều trị,\n",
      "quản lý, phục hồi chức năng và hỗ trợ xã hội đối với người có rối loạn tâm\n",
      "thần; Củng cố hệ thống chăm sóc sức khoẻ tâm thần để cung cấp dịch vụ y tế và\n",
      "xã hội toàn diện, lồng ghép, liên tục và dựa vào cộng đồng.  \n",
      "\n",
      "[![COVID-19 khiến ca mắc và tử vong do bệnh lao ở Việt Nam\n",
      "tăng](https://suckhoedoisong.qltns.mediacdn.vn/324455921873985536/2023/8/3/phong-\n",
      "chong-lao-tai-co-\n",
      "so-1691068246254413520716-14-0-389-600-crop-16910682596171917612642.jpeg)](/covid-19-khien-\n",
      "ca-mac-va-tu-vong-do-benh-lao-o-viet-nam-tang-169230803201844826.htm)[COVID-19\n",
      "khiến ca mắc và tử vong do bệnh lao ở Việt Nam tăng](/covid-19-khien-ca-mac-\n",
      "va-tu-vong-do-benh-lao-o-viet-nam-tang-169230803201844826.htm)\n",
      "\n",
      "SKĐS - Các chuyên gia cho biết Việt Nam hiện vẫn là nước có gánh nặng bệnh lao\n",
      "cao. Năm 2019, tỷ lệ tử vong do lao là 8.400 ca, đến năm 2022 đã tăng lên\n",
      "12.000 ca, còn số ca mắc mới tăng lên 172.000 ca. Đại dịch COVID-19 xảy ra đã\n",
      "đảo ngược kết quả nhiều năm phòng chống lao của Việt Nam.\n",
      "\n",
      "  \n",
      "\n",
      "Lê Hảo - Thái Bình\n",
      "\n",
      "Bình luận\n",
      "\n",
      "[Xem thêm bình luận](javascript:)\n",
      "\n",
      "Ý kiến của bạn\n",
      "\n",
      "Hãy nhập họ và tên\n",
      "\n",
      "Đăng nhập để tham gia bình luận\n",
      "\n",
      "[Bình luận không đăng nhập](javascript:)\n",
      "\n",
      "[Gửi](javascript:)\n",
      "\n",
      "Đăng nhập với socail\n",
      "\n",
      "Facebook  Google\n",
      "\n",
      "Ghi nhớ tài khoản\n",
      "\n",
      "Đăng nhập\n",
      "\n",
      "Thông báo\n",
      "\n",
      "Bạn đã gửi thành công.\n",
      "\n",
      "[ Chia sẻ facebook ](javascript:)\n",
      "\n",
      "[ ](https://twitter.com/intent/tweet?text=Việt Nam có khoảng 14 triệu người\n",
      "rối loạn tâm thần https://suckhoedoisong.vn/viet-nam-co-khoang-14-trieu-nguoi-\n",
      "roi-loan-tam-than-169230803214300404.htm)\n",
      "\n",
      "Tags:\n",
      "\n",
      "  * [rối loạn tam thần](/roi-loan-tam-than.html \"rối loạn tâm thần\")\n",
      "  * [chăm soc sức khoẻ tam thần](/cham-soc-suc-khoe-tam-than.html \"chăm sóc sức khoẻ tâm thần\")\n",
      "  * [tam lý trị liệu](/tam-ly-tri-lieu.html \"tâm lý trị liệu\")\n",
      "  * [tam lý lam sang](/tam-ly-lam-sang.html \"tâm lý lâm sàng\")\n",
      "\n",
      "Tin Liên Quan\n",
      "\n",
      "[ ![COVID-19 khiến ca mắc và tử vong do bệnh lao ở Việt Nam\n",
      "tăng](https://suckhoedoisong.qltns.mediacdn.vn/zoom/230_138/324455921873985536/2023/8/3/phong-\n",
      "chong-lao-tai-co-\n",
      "so-1691068246254413520716-14-0-389-600-crop-16910682596171917612642.jpeg)\n",
      "](/covid-19-khien-ca-mac-va-tu-vong-do-benh-lao-o-viet-nam-\n",
      "tang-169230803201844826.htm \"COVID-19 khiến ca mắc và tử vong do bệnh lao ở\n",
      "Việt Nam tăng\")\n",
      "\n",
      "[COVID-19 khiến ca mắc va tử vong do bệnh lao ở Việt Nam\n",
      "tăng](/covid-19-khien-ca-mac-va-tu-vong-do-benh-lao-o-viet-nam-\n",
      "tang-169230803201844826.htm \"COVID-19 khiến ca mắc và tử vong do bệnh lao ở\n",
      "Việt Nam tăng\")\n",
      "\n",
      "[ ![Ca phẫu thuật '2 trong 1' kéo dài gần 10 tiếng liên tục trả lại diện mạo\n",
      "xinh đẹp cho cô\n",
      "gái](https://suckhoedoisong.qltns.mediacdn.vn/zoom/230_138/324455921873985536/2023/8/3/phau-\n",
      "thuat-khop-dinh-thai-duong-\n",
      "ham-1691058371101338310639-81-0-1331-2000-crop-16910583789091794757506.jpg)\n",
      "](/ca-phau-thuat-2-trong-1-keo-dai-gan-10-tieng-lien-tuc-tra-lai-dien-mao-\n",
      "xinh-dep-cho-co-gai-16923080317252682.htm \"Ca phẫu thuật '2 trong 1' kéo dài\n",
      "gần 10 tiếng liên tục trả lại diện mạo xinh đẹp cho cô gái\")\n",
      "\n",
      "[Ca phẫu thuật '2 trong 1' keo dai gần 10 tiếng lien tục trả lại diện mạo xinh\n",
      "đẹp cho co gai](/ca-phau-thuat-2-trong-1-keo-dai-gan-10-tieng-lien-tuc-tra-\n",
      "lai-dien-mao-xinh-dep-cho-co-gai-16923080317252682.htm \"Ca phẫu thuật '2 trong\n",
      "1' kéo dài gần 10 tiếng liên tục trả lại diện mạo xinh đẹp cho cô gái\")\n",
      "\n",
      "[ ![Ngày 3/8: Có 25 ca COVID-19 mới, 4 bệnh nhân đang thở\n",
      "oxy](https://suckhoedoisong.qltns.mediacdn.vn/zoom/230_138/324455921873985536/2023/8/3/covid-1687948502017261044501-19-0-638-990-crop-16910589814251369252160.jpg)\n",
      "](/ngay-3-8-co-25-ca-covid-19-moi-4-benh-nhan-dang-tho-\n",
      "oxy-16923080317353381.htm \"Ngày 3/8: Có 25 ca COVID-19 mới, 4 bệnh nhân đang\n",
      "thở oxy\")\n",
      "\n",
      "[Ngay 3/8: Co 25 ca COVID-19 mới, 4 bệnh nhan đang thở\n",
      "oxy](/ngay-3-8-co-25-ca-covid-19-moi-4-benh-nhan-dang-tho-\n",
      "oxy-16923080317353381.htm \"Ngày 3/8: Có 25 ca COVID-19 mới, 4 bệnh nhân đang\n",
      "thở oxy\")\n",
      "\n",
      "[ ![Chuyển bệnh viện trung ương cho Hà Nội 'quản': Sẽ tác động đến hệ thống y\n",
      "tế của toàn\n",
      "quốc](https://suckhoedoisong.qltns.mediacdn.vn/zoom/230_138/324455921873985536/2023/8/3/benh-\n",
      "vien-tuyen-trung-uong-truc-thuoc-bo-y-\n",
      "te-1691054449509525274041-160-0-1360-1920-crop-1691054465890398879309.jpeg)\n",
      "](/chuyen-benh-vien-trung-uong-cho-ha-noi-quan-se-tac-dong-den-he-thong-y-te-\n",
      "cua-toan-quoc-169230803160142288.htm \"Chuyển bệnh viện trung ương cho Hà Nội\n",
      "'quản': Sẽ tác động đến hệ thống y tế của toàn quốc\")\n",
      "\n",
      "[Chuyển bệnh viện trung ương cho Ha Nội 'quản': Sẽ tac động đến hệ thống y tế\n",
      "của toan quốc](/chuyen-benh-vien-trung-uong-cho-ha-noi-quan-se-tac-dong-den-\n",
      "he-thong-y-te-cua-toan-quoc-169230803160142288.htm \"Chuyển bệnh viện trung\n",
      "ương cho Hà Nội 'quản': Sẽ tác động đến hệ thống y tế của toàn quốc\")\n",
      "\n",
      "[ ![Bộ Y tế phạt công ty TNHH dược phẩm FitoPharma 120 triệu\n",
      "](https://suckhoedoisong.qltns.mediacdn.vn/zoom/230_138/324455921873985536/2023/8/2/thuocxuyen-\n",
      "tam-lien-16909777914661383058671-9-0-328-510-crop-1690977802345525199705.jpeg)\n",
      "](/bo-y-te-phat-cong-ty-tnhh-duoc-pham-\n",
      "fitopharma-120-trieu-16923080219034107.htm \"Bộ Y tế phạt công ty TNHH dược\n",
      "phẩm FitoPharma 120 triệu \")\n",
      "\n",
      "[Bộ Y tế phạt cong ty TNHH dược phẩm FitoPharma 120 triệu ](/bo-y-te-phat-\n",
      "cong-ty-tnhh-duoc-pham-fitopharma-120-trieu-16923080219034107.htm \"Bộ Y tế\n",
      "phạt công ty TNHH dược phẩm FitoPharma 120 triệu \")\n",
      "\n",
      "[ ![Ngày 2/8: Có 26 ca COVID-19 mới, bệnh nhân thở oxy tăng\n",
      "nhẹ](https://suckhoedoisong.qltns.mediacdn.vn/zoom/230_138/324455921873985536/2023/8/2/covid-16892494808541908791609-0-0-313-500-crop-16909685553311167356026.jpeg)\n",
      "](/ngay-2-8-co-26-ca-covid-19-moi-benh-nhan-tho-oxy-tang-\n",
      "nhe-169230802162836132.htm \"Ngày 2/8: Có 26 ca COVID-19 mới, bệnh nhân thở oxy\n",
      "tăng nhẹ\")\n",
      "\n",
      "[Ngay 2/8: Co 26 ca COVID-19 mới, bệnh nhan thở oxy tăng\n",
      "nhẹ](/ngay-2-8-co-26-ca-covid-19-moi-benh-nhan-tho-oxy-tang-\n",
      "nhe-169230802162836132.htm \"Ngày 2/8: Có 26 ca COVID-19 mới, bệnh nhân thở oxy\n",
      "tăng nhẹ\")\n",
      "\n",
      "[Thời sự](/thoi-su.htm \"Thời sự\")\n",
      "\n",
      "[ Xã hội ](/thoi-su/xa-hoi.htm \"Xã hội\") [ Pháp luật ](/thoi-su/phap-luat.htm\n",
      "\"Pháp luật\") [ Quốc tế ](/thoi-su/quoc-te.htm \"Quốc tế\")\n",
      "\n",
      "[Y tế ](/y-te.htm \"Y tế \")\n",
      "\n",
      "[ Tin nóng y tế ](/y-te/tin-nong-y-te.htm \"Tin nóng y tế\") [ Thành tựu y khoa\n",
      "](/y-te/thanh-tuu-y-khoa.htm \"Thành tựu y khoa\") [ Blog thầy thuốc\n",
      "](/y-te/blog-thay-thuoc.htm \"Blog thầy thuốc\") [ Sự hi sinh thầm lặng\n",
      "](/y-te/su-hi-sinh-tham-lang.htm \"Sự hi sinh thầm lặng\") [ Camera bệnh viện\n",
      "](/y-te/camera-benh-vien.htm \"Camera bệnh viện\")\n",
      "\n",
      "[Tra cứu bệnh](/tra-cuu-benh.htm \"Tra cứu bệnh\")\n",
      "\n",
      "[Sức khỏe TV](/suc-khoe-tv.htm \"Sức khỏe TV\")\n",
      "\n",
      "[ Tọa đàm ](/suc-khoe-tv/toa-dam.htm \"Tọa đàm\") [ Giao lưu ](/suc-khoe-\n",
      "tv/giao-luu.htm \"Giao lưu\") [ Livestream ](/suc-khoe-tv/livestream.htm\n",
      "\"Livestream\")\n",
      "\n",
      "[Dược](/duoc.htm \"Dược\")\n",
      "\n",
      "[ An toàn dùng thuốc ](/duoc/an-toan-dung-thuoc.htm \"An toàn dùng thuốc\") [\n",
      "Thông tin dược học ](/duoc/thong-tin-duoc-hoc.htm \"Thông tin dược học\") [\n",
      "Thuốc mới ](/duoc/thuoc-moi.htm \"Thuốc mới\") [ Vaccine ](/duoc/vaccine.htm\n",
      "\"Vaccine\")\n",
      "\n",
      "[Y học cổ truyền](/y-hoc-co-truyen.htm \"Y học cổ truyền\")\n",
      "\n",
      "[ Thầy giỏi – thuốc hay ](/y-hoc-co-truyen/thay-gioi-thuoc-hay.htm \"Thầy giỏi\n",
      "– thuốc hay\") [ Bệnh viện - phòng khám ](/y-hoc-co-truyen/benh-vien-phong-\n",
      "kham.htm \"Bệnh viện - phòng khám\") [ Cây thuốc quanh ta ](/y-hoc-co-\n",
      "truyen/cay-thuoc-quanh-ta.htm \"Cây thuốc quanh ta\") [ Chữa bệnh không dùng\n",
      "thuốc ](/y-hoc-co-truyen/chua-benh-khong-dung-thuoc.htm \"Chữa bệnh không dùng\n",
      "thuốc\")\n",
      "\n",
      "Multimedia\n",
      "\n",
      "[ Emagazine ](/multimedia/emagazine.htm \"Emagazine\") [ Video\n",
      "](/multimedia/video.htm \"Video\") [ Infographic ](/multimedia/infographic.htm\n",
      "\"Infographic\")\n",
      "\n",
      "[Y học 360](/y-hoc-360.htm \"Y học 360\")\n",
      "\n",
      "[ Bệnh người cao tuổi ](/y-hoc-360/benh-nguoi-cao-tuoi.htm \"Bệnh người cao\n",
      "tuổi\") [ Bệnh thường gặp ](/y-hoc-360/benh-thuong-gap.htm \"Bệnh thường gặp\") [\n",
      "Bệnh phụ nữ ](/y-hoc-360/benh-phu-nu.htm \"Bệnh phụ nữ\") [ Bệnh nam giới\n",
      "](/y-hoc-360/benh-nam-gioi.htm \"Bệnh nam giới\") [ Bệnh trẻ em\n",
      "](/y-hoc-360/benh-tre-em.htm \"Bệnh trẻ em\") [ Sức khỏe tâm hồn\n",
      "](/y-hoc-360/suc-khoe-tam-hon.htm \"Sức khỏe tâm hồn\") [ Ung thư\n",
      "](/y-hoc-360/ung-thu.htm \"Ung thư\")\n",
      "\n",
      "[Khỏe - Đẹp](/khoe-dep.htm \"Khỏe - Đẹp\")\n",
      "\n",
      "[ Mỹ phẩm ](/khoe-dep/my-pham.htm \"Mỹ phẩm\") [ Thẩm mỹ ](/khoe-dep/tham-my.htm\n",
      "\"Thẩm mỹ\") [ Bài tập khỏe đẹp ](/khoe-dep/bai-tap-khoe-dep.htm \"Bài tập khỏe\n",
      "đẹp\")\n",
      "\n",
      "[Dinh dưỡng](/dinh-duong.htm \"Dinh dưỡng\")\n",
      "\n",
      "[ Dinh dưỡng mẹ và bé ](/dinh-duong/dinh-duong-me-va-be.htm \"Dinh dưỡng mẹ và\n",
      "bé\") [ Dinh dưỡng người cao tuổi ](/dinh-duong/dinh-duong-nguoi-cao-tuoi.htm\n",
      "\"Dinh dưỡng người cao tuổi\") [ Chế độ ăn người bệnh ](/dinh-duong/che-do-an-\n",
      "nguoi-benh.htm \"Chế độ ăn người bệnh\") [ Cảnh giác thực phẩm ](/dinh-\n",
      "duong/canh-giac-thuc-pham.htm \"Cảnh giác thực phẩm\") [ Thực phẩm chức năng\n",
      "](/dinh-duong/thuc-pham-chuc-nang.htm \"Thực phẩm chức năng\")\n",
      "\n",
      "[Giới tính](/gioi-tinh.htm \"Giới tính\")\n",
      "\n",
      "[ Hỏi đáp phòng the ](/gioi-tinh/hoi-dap-phong-the.htm \"Hỏi đáp phòng the\") [\n",
      "Sức khỏe sinh sản ](/gioi-tinh/suc-khoe-sinh-san.htm \"Sức khỏe sinh sản\") [\n",
      "Bệnh lây truyền ](/gioi-tinh/benh-lay-truyen.htm \"Bệnh lây truyền\")\n",
      "\n",
      "[Phòng mạch online](/phong-mach-online.htm \"Phòng mạch online\")\n",
      "\n",
      "[Thị trường](/thi-truong.htm \"Thị trường\")\n",
      "\n",
      "[ Nhãn hàng sai phạm ](/thi-truong/nhan-hang-sai-pham.htm \"Nhãn hàng sai\n",
      "phạm\") [ Doanh nghiệp ](/thi-truong/doanh-nghiep.htm \"Doanh nghiệp\")\n",
      "\n",
      "[Nhịp cầu Nhân ái](/nhip-cau-nhan-ai.htm \"Nhịp cầu Nhân ái\")\n",
      "\n",
      "[Văn hóa – Giải trí](/van-hoa-giai-tri.htm \"Văn hóa – Giải trí\")\n",
      "\n",
      "[Chuyên trang gia đình](https://giadinh.suckhoedoisong.vn/ \"Chuyên trang gia\n",
      "đình\")\n",
      "\n",
      "[Đời sống](/doi-song.htm \"Đời sống\")\n",
      "\n",
      "[ ![Báo Sức khỏe & Đời sống - Cơ quan ngôn luận của Bộ Y\n",
      "tế](https://static.mediacdn.vn/suckhoedoisong/image/logo.svg) ](/ \"Báo Sức\n",
      "khỏe & Đời sống - Cơ quan ngôn luận của Bộ Y tế\")\n",
      "\n",
      "Tổng Biên tập: TRẦN TUẤN LINH\n",
      "\n",
      "Phó Tổng Biên tập: TÔ QUANG TRUNG (Thường trực), TRẦN YẾN CHÂU, NGUYỄN NGỌC\n",
      "ĐỨC, NGUYỄN CHÍ LONG\n",
      "\n",
      "Giấy phép hoạt động báo chí số 390/GP-BTTTT do Bộ Thông tin và Truyền thông\n",
      "cấp ngày 25/06/2021\n",
      "\n",
      "© Bản quyền thuộc Báo điện tử Sức khỏe và Đời sống - Cơ quan ngôn luận của Bộ\n",
      "Y tế.\n",
      "\n",
      "  * [ ](https://www.tiktok.com/@suckhoedoisong.vn? \"TikTok\")\n",
      "  * [ ](https://www.facebook.com/baosuckhoevadoisong/ \"Facebook\")\n",
      "  * [ ](https://www.youtube.com/channel/UCD09NCZlzMj4yGvGkLbuBpw \"YouTube\")\n",
      "  * [ ](/page-rss.htm \"Rss\")\n",
      "\n",
      "[Liên hệ](/lien-he.htm \"Liên hệ\")\n",
      "\n",
      "THÔNG TIN TÒA SOẠN  \n",
      "**Trụ sở chính:** Số 138A Giảng Võ - Quận Ba Đình - Thành phố Hà Nội  \n",
      "**Điện thoại:** 024.6688.8900 - **Fax:** 024.3844.3144  \n",
      "**Đường dây nóng:** 0904.852.222  \n",
      "**Email:** toasoan@suckhoedoisong.vn\n",
      "\n",
      "LIÊN HỆ QUẢNG CÁO\n",
      "\n",
      "**Điện thoại:** 0888.669.909 - **Email:** ads@suckhoedoisong.vn\n",
      "\n",
      "VĂN PHÒNG ĐẠI DIỆN\n",
      "\n",
      "\\- Thành phố Hồ Chí Minh: Số 213 và 495 đường Điện Biên Phủ - Quận 3 - TP. Hồ\n",
      "Chí Minh  \n",
      "\\- Văn phòng Bắc Trung Bộ: Số 68A đường Nguyễn Sỹ Sách, Phường Hưng Phúc, TP\n",
      "Vinh, Nghệ An  \n",
      "\\- Khu vực Đông Bắc: Phố Hải Phúc - Phường Hồng Hải - TP. Hạ Long - Tỉnh Quảng\n",
      "Ninh\n",
      "\n",
      "[ ](javascript:)\n",
      "\n",
      "\n"
     ]
    }
   ],
   "source": [
    "from llama_index.readers.web import SimpleWebPageReader\n",
    "reader = SimpleWebPageReader(html_to_text=True)\n",
    "pages = reader.load_data(urls=[\"https://suckhoedoisong.vn/viet-nam-co-khoang-14-trieu-nguoi-roi-loan-tam-than-169230803214300404.htm\"])\n",
    "print(pages[0].text)"
   ]
  },
  {
   "cell_type": "markdown",
   "metadata": {},
   "source": [
    "### Load liệu từ database - DatabaseReader"
   ]
  },
  {
   "cell_type": "code",
   "execution_count": 20,
   "metadata": {},
   "outputs": [],
   "source": [
    "import sqlite3\n",
    "\n",
    "# Kết nối đến cơ sở dữ liệu (hoặc tạo mới nếu chưa tồn tại)\n",
    "conn = sqlite3.connect('example.db')\n",
    "\n",
    "# Tạo một con trỏ để thực hiện các lệnh SQL\n",
    "cursor = conn.cursor()\n",
    "\n",
    "# Tạo bảng users\n",
    "cursor.execute('''\n",
    "CREATE TABLE IF NOT EXISTS users (\n",
    "    id INTEGER PRIMARY KEY AUTOINCREMENT,\n",
    "    name TEXT NOT NULL,\n",
    "    email TEXT NOT NULL UNIQUE\n",
    ")\n",
    "''')\n",
    "\n",
    "# Thêm một vài bản ghi vào bảng users\n",
    "cursor.execute('''\n",
    "INSERT INTO users (name, email) \n",
    "VALUES ('Alice', 'alice@example.com')\n",
    "''')\n",
    "\n",
    "cursor.execute('''\n",
    "INSERT INTO users (name, email) \n",
    "VALUES ('Bob', 'bob@example.com')\n",
    "''')\n",
    "\n",
    "# Lưu thay đổi vào cơ sở dữ liệu\n",
    "conn.commit()\n",
    "conn.close()"
   ]
  },
  {
   "cell_type": "code",
   "execution_count": 21,
   "metadata": {},
   "outputs": [
    {
     "name": "stdout",
     "output_type": "stream",
     "text": [
      "id: 1, name: Alice, email: alice@example.com\n",
      "id: 2, name: Bob, email: bob@example.com\n"
     ]
    }
   ],
   "source": [
    "from llama_index.readers.database import DatabaseReader\n",
    "reader = DatabaseReader(\n",
    "    uri=\"sqlite:///example.db\"\n",
    ")\n",
    "query = \"SELECT * FROM users\"\n",
    "documents = reader.load_data(query=query)\n",
    "for doc in documents:\n",
    "    print(doc.text)"
   ]
  },
  {
   "cell_type": "markdown",
   "metadata": {},
   "source": [
    "### Load dữ liệu với llama cloud"
   ]
  },
  {
   "cell_type": "code",
   "execution_count": 12,
   "metadata": {},
   "outputs": [
    {
     "name": "stdout",
     "output_type": "stream",
     "text": [
      "Started parsing the file under job_id f8ac4bb8-1ddf-48fd-bbfb-883f20e4c39c\n"
     ]
    }
   ],
   "source": [
    "from llama_parse import LlamaParse\n",
    "from llama_index.core import SimpleDirectoryReader\n",
    "import os\n",
    "import nest_asyncio\n",
    "nest_asyncio.apply()\n",
    "\n",
    "# add key to environment\n",
    "os.environ[\"LLAMA_CLOUD_API_KEY\"] = \"llx-your-llama-cloud-api-key\"\n",
    "\n",
    "parser = LlamaParse(result_type=\"text\")\n",
    "file_extractor = {\".pdf\": parser}\n",
    "reader = SimpleDirectoryReader(\n",
    "    \"files/\",\n",
    "    file_extractor=file_extractor\n",
    ")\n",
    "docs = reader.load_data()"
   ]
  },
  {
   "cell_type": "code",
   "execution_count": 13,
   "metadata": {},
   "outputs": [
    {
     "data": {
      "text/plain": [
       "[Document(id_='512fc409-5914-4e7f-853a-c23665b1cb0a', embedding=None, metadata={'file_path': '/home/tiemdinh/Tiem-workspace/AIO-Mental-Health/docs/tutorial/files/2005.11401v4-6.pdf', 'file_name': '2005.11401v4-6.pdf', 'file_type': 'application/pdf', 'file_size': 102836, 'creation_date': '2024-09-03', 'last_modified_date': '2024-09-03'}, excluded_embed_metadata_keys=['file_name', 'file_type', 'file_size', 'creation_date', 'last_modified_date', 'last_accessed_date'], excluded_llm_metadata_keys=['file_name', 'file_type', 'file_size', 'creation_date', 'last_modified_date', 'last_accessed_date'], relationships={}, text='Table 1: Open-Domain QA Test Scores. For TQA,                   Table 2: Generation and classification Test Scores.\\nleft column uses the standard test set for Open-                MS-MARCO SotA is [ 4], FEVER-3 is [68] and\\nDomain QA, right column uses the TQA-Wiki                       FEVER-2 is [57 ] *Uses gold context/evidence.\\ntest set. See Appendix D for further details.                   Best model without gold access underlined.\\n           Model             NQ       TQA       WQ      CT\\n  Closed   T5-11B [52]       34.5     - /50.1 37.4       -          Model        Jeopardy     MSMARCO FVR3 FVR2\\n  Book     T5-11B+SSM[52] 36.6        - /60.5 44.7       -                      B-1 QB-1 R-L           B-1     Label Acc.\\n  Open     REALM [20]        40.4     - / -     40.7 46.8         SotA           -       -    49.8* 49.9* 76.8        92.2*\\n  Book     DPR [26]          41.5 57.9/ -       41.1 50.6         BART         15.1 19.7      38.2    41.6     64.0    81.1\\n           RAG-Token         44.1 55.2/66.1 45.5 50.0             RAG-Tok. 17.3 22.2          40.1    41.5     72.5    89.5\\n           RAG-Seq.          44.5 56.8/68.0 45.2 52.2             RAG-Seq. 14.7 21.4          40.8    44.2\\n\\nto more effective marginalization over documents. Furthermore, RAG can generate correct answers\\neven when the correct answer is not in any retrieved document, achieving 11.8% accuracy in such\\ncases for NQ, where an extractive model would score 0%.\\n\\n4.2    Abstractive Question Answering\\nAs shown in Table 2, RAG-Sequence outperforms BART on Open MS-MARCO NLG by 2.6 Bleu\\npoints and 2.6 Rouge-L points. RAG approaches state-of-the-art model performance, which is\\nimpressive given that (i) those models access gold passages with specific information required to\\ngenerate the reference answer , (ii) many questions are unanswerable without the gold passages, and\\n(iii) not all questions are answerable from Wikipedia alone. Table 3 shows some generated answers\\nfrom our models. Qualitatively, we find that RAG models hallucinate less and generate factually\\ncorrect text more often than BART. Later, we also show that RAG generations are more diverse than\\nBART generations (see §4.5).\\n\\n4.3    Jeopardy Question Generation\\nTable 2 shows that RAG-Token performs better than RAG-Sequence on Jeopardy question generation,\\nwith both models outperforming BART on Q-BLEU-1. 4 shows human evaluation results, over 452\\npairs of generations from BART and RAG-Token. Evaluators indicated that BART was more factual\\nthan RAG in only 7.1% of cases, while RAG was more factual in 42.7% of cases, and both RAG and\\nBART were factual in a further 17% of cases, clearly demonstrating the effectiveness of RAG on\\nthe task over a state-of-the-art generation model. Evaluators also find RAG generations to be more\\nspecific by a large margin. Table 3 shows typical generations from each model.\\nJeopardy questions often contain two separate pieces of information, and RAG-Token may perform\\nbest because it can generate responses that combine content from several documents. Figure 2 shows\\nan example. When generating “Sun”, the posterior is high for document 2 which mentions “The\\nSun Also Rises”. Similarly, document 1 dominates the posterior when “A Farewell to Arms” is\\ngenerated. Intriguingly, after the first token of each book is generated, the document posterior flattens.\\nThis observation suggests that the generator can complete the titles without depending on specific\\ndocuments. In other words, the model’s parametric knowledge is sufficient to complete the titles. We\\nfind evidence for this hypothesis by feeding the BART-only baseline with the partial decoding \"The\\nSun. BART completes the generation \"The Sun Also Rises\" is a novel by this author of \"The Sun\\nAlso Rises\" indicating the title \"The Sun Also Rises\" is stored in BART’s parameters. Similarly,\\nBART will complete the partial decoding \"The Sun Also Rises\" is a novel by this author of \"A\\nwith \"The Sun Also Rises\" is a novel by this author of \"A Farewell to Arms\". This example shows\\nhow parametric and non-parametric memories work together—the non-parametric component helps\\nto guide the generation, drawing out specific knowledge stored in the parametric memory.\\n\\n4.4    Fact Verification\\nTable 2 shows our results on FEVER. For 3-way classification, RAG scores are within 4.3% of\\nstate-of-the-art models, which are complex pipeline systems with domain-specific architectures and\\nsubstantial engineering, trained using intermediate retrieval supervision, which RAG does not require.\\n\\n                                                              6', mimetype='text/plain', start_char_idx=None, end_char_idx=None, text_template='{metadata_str}\\n\\n{content}', metadata_template='{key}: {value}', metadata_seperator='\\n'),\n",
       " Document(id_='ba18c965-b558-43f7-8a47-68ab3043fc65', embedding=None, metadata={'file_path': '/home/tiemdinh/Tiem-workspace/AIO-Mental-Health/docs/tutorial/files/file1.csv', 'file_name': 'file1.csv', 'file_type': 'text/csv', 'file_size': 27, 'creation_date': '2024-09-03', 'last_modified_date': '2024-09-03'}, excluded_embed_metadata_keys=['file_name', 'file_type', 'file_size', 'creation_date', 'last_modified_date', 'last_accessed_date'], excluded_llm_metadata_keys=['file_name', 'file_type', 'file_size', 'creation_date', 'last_modified_date', 'last_accessed_date'], relationships={}, text='John, 25\\nJane, 24', mimetype='text/plain', start_char_idx=None, end_char_idx=None, text_template='{metadata_str}\\n\\n{content}', metadata_template='{key}: {value}', metadata_seperator='\\n'),\n",
       " Document(id_='cb13ca28-6bcf-4eb0-a856-b6aee1309659', embedding=None, metadata={'file_path': '/home/tiemdinh/Tiem-workspace/AIO-Mental-Health/docs/tutorial/files/file2.txt', 'file_name': 'file2.txt', 'file_type': 'text/plain', 'file_size': 339, 'creation_date': '2024-09-03', 'last_modified_date': '2024-09-03'}, excluded_embed_metadata_keys=['file_name', 'file_type', 'file_size', 'creation_date', 'last_modified_date', 'last_accessed_date'], excluded_llm_metadata_keys=['file_name', 'file_type', 'file_size', 'creation_date', 'last_modified_date', 'last_accessed_date'], relationships={}, text='Theo định nghĩa của Tổ chức Y tế Thế giới (WHO), sức khỏe tinh thần là trạng thái trạng thái mà trong đó con người nhận thức được khả năng của bản thân, có thể đối phó với những căng thẳng thông thường, vẫn làm việc hiệu quả và đóng góp cho cộng đồng.\\n', mimetype='text/plain', start_char_idx=None, end_char_idx=None, text_template='{metadata_str}\\n\\n{content}', metadata_template='{key}: {value}', metadata_seperator='\\n'),\n",
       " Document(id_='b852e5fa-4208-4b23-bbb9-964fee94b4e1', embedding=None, metadata={'file_path': '/home/tiemdinh/Tiem-workspace/AIO-Mental-Health/docs/tutorial/files/md_test.md', 'file_name': 'md_test.md', 'file_type': 'text/markdown', 'file_size': 1315, 'creation_date': '2024-09-03', 'last_modified_date': '2024-09-03'}, excluded_embed_metadata_keys=['file_name', 'file_type', 'file_size', 'creation_date', 'last_modified_date', 'last_accessed_date'], excluded_llm_metadata_keys=['file_name', 'file_type', 'file_size', 'creation_date', 'last_modified_date', 'last_accessed_date'], relationships={}, text='\\n\\nDocuments\\n\\nMột thành phần không thể thiếu trong các ứng dụng RAG là dữ liệu, chúng ta có nhiều loại dữ liệu khác nhau như: pdf, docx, csv, pptx, html, database... mỗi loại khác nhau không tuân theo một quy chuẩn chung nào. Chính vì vậy, Documents trong Llama Index được tạo ra với vai trò như một cái khuôn để chứa và đưa các loại dữ liệu về một loại cấu trúc chung.\\n\\nĐiểm đặc biệt trong cấu trúc của Documents là nó có thể chứa thêm các thông tin bổ xung về dữ liệu trong đó, thành phần này gọi là siêu dữ liệu(metadata). Hiểu đơn giản thì nó là các thông tin bổ xung mà chúng ta cung cấp thêm cho dữ liệu như mô tả, tóm tắt, tiêu đề... những thông tin này nhằm mục đích hỗ trợ quá trình tìm kiếm hiệu quả hơn.\\n\\nĐể tạo Document từ dữ liệu, cú pháp sử dụng như sau: `Document(text, metadata, id_)`\\nTrong đó:\\n\\n    * text: dữ liệu đầu vào dạng text\\n\\n    * metadata: siêu dữ liệu, thường có định dạng dictionary, thường được tạo tự động bởi thư viện.\\n\\n    * id_: Chỉ số của đối tượng Document này, nó thường được tạo một cách tự động\\n', mimetype='text/plain', start_char_idx=None, end_char_idx=None, text_template='{metadata_str}\\n\\n{content}', metadata_template='{key}: {value}', metadata_seperator='\\n'),\n",
       " Document(id_='53d01879-0fa2-4788-a156-2529c50c11a0', embedding=None, metadata={'file_path': '/home/tiemdinh/Tiem-workspace/AIO-Mental-Health/docs/tutorial/files/test_metadata_ex.txt', 'file_name': 'test_metadata_ex.txt', 'file_type': 'text/plain', 'file_size': 308, 'creation_date': '2024-09-03', 'last_modified_date': '2024-09-03'}, excluded_embed_metadata_keys=['file_name', 'file_type', 'file_size', 'creation_date', 'last_modified_date', 'last_accessed_date'], excluded_llm_metadata_keys=['file_name', 'file_type', 'file_size', 'creation_date', 'last_modified_date', 'last_accessed_date'], relationships={}, text='Mèo rất đáng yêu. \\n\\nAcid hydrochloric đậm đặc nhất có nồng độ tối đa là 40%. \\nỞ dạng đậm đặc, acid này có thể tạo thành các sương mù acid, \\nchúng đều có khả năng ăn mòn các mô con người, gây tổn thương cơ quan hô hấp, mắt, da và ruột.', mimetype='text/plain', start_char_idx=None, end_char_idx=None, text_template='{metadata_str}\\n\\n{content}', metadata_template='{key}: {value}', metadata_seperator='\\n')]"
      ]
     },
     "execution_count": 13,
     "metadata": {},
     "output_type": "execute_result"
    }
   ],
   "source": [
    "docs"
   ]
  },
  {
   "cell_type": "markdown",
   "metadata": {},
   "source": [
    "## Các phương pháp tạo node"
   ]
  },
  {
   "cell_type": "markdown",
   "metadata": {},
   "source": [
    "### Simple File Node Parse\n",
    "\n",
    "Tạo nodes từ hầu hết các loại tài liệu như txt, md..."
   ]
  },
  {
   "cell_type": "code",
   "execution_count": 22,
   "metadata": {},
   "outputs": [
    {
     "name": "stdout",
     "output_type": "stream",
     "text": [
      "Node ID: 865f4b6e-b6e9-4caa-a2fd-047888a0e92e\n",
      "Text: Documents  Một thành phần không thể thiếu trong các ứng dụng RAG\n",
      "là dữ liệu, chúng ta có nhiều loại dữ liệu khác nhau như: pdf, docx,\n",
      "csv, pptx, html, database... mỗi loại khác nhau không tuân theo một\n",
      "quy chuẩn chung nào. Chính vì vậy, Documents trong Llama Index được\n",
      "tạo ra với vai trò như một cái khuôn để chứa và đưa các loại dữ liệu\n",
      "về một l...\n"
     ]
    }
   ],
   "source": [
    "from llama_index.core.node_parser import SimpleFileNodeParser\n",
    "from llama_index.readers.file import FlatReader\n",
    "from pathlib import Path\n",
    "\n",
    "md_docs = FlatReader().load_data(Path(\"files/md_test.md\"))\n",
    "\n",
    "parser = SimpleFileNodeParser()\n",
    "md_nodes = parser.get_nodes_from_documents(md_docs)\n",
    "print(md_nodes[0])"
   ]
  },
  {
   "cell_type": "markdown",
   "metadata": {},
   "source": [
    "## Semantic Node Parser\n",
    "\n",
    "Tạo nodes bằng cách chia documents thành các đoạn nhỏ dựa trên ngữ nghĩa của đoạn, thay vì cố định chunk_size như các phương pháp khác.\n"
   ]
  },
  {
   "cell_type": "code",
   "execution_count": 23,
   "metadata": {},
   "outputs": [
    {
     "name": "stdout",
     "output_type": "stream",
     "text": [
      "Node ID: 236d2ed2-257b-4a00-86af-4fde2c39d612\n",
      "Text: Mèo rất đáng yêu.\n",
      "Node ID: 7c0531c4-6113-46cf-989f-975930fab71c\n",
      "Text: Acid hydrochloric đậm đặc nhất có nồng độ tối đa là 40%.\n",
      "Ở dạng đậm đặc, acid này có thể tạo thành các sương mù acid,\n",
      "chúng đều có khả năng ăn mòn các mô con người, gây tổn thương cơ quan\n",
      "hô hấp,          mắt, da và ruột.\n"
     ]
    }
   ],
   "source": [
    "from llama_index.core.node_parser import SemanticSplitterNodeParser\n",
    "from llama_index.embeddings.openai import OpenAIEmbedding\n",
    "from llama_index.core import Document\n",
    "\n",
    "text = \"\"\"Mèo rất đáng yêu. \n",
    "        Acid hydrochloric đậm đặc nhất có nồng độ tối đa là 40%. \n",
    "        Ở dạng đậm đặc, acid này có thể tạo thành các sương mù acid, \n",
    "        chúng đều có khả năng ăn mòn các mô con người, gây tổn thương cơ quan hô hấp, \n",
    "        mắt, da và ruột. \"\"\"\n",
    "\n",
    "doc = Document(text=text)\n",
    "\n",
    "# Sử dụng mô hình OpenAI để tính toán embedding\n",
    "embed_model = OpenAIEmbedding()\n",
    "\n",
    "# Khởi tạo SemanticSplitterNodeParser với các tham số tùy chỉnh\n",
    "splitter = SemanticSplitterNodeParser(\n",
    "    buffer_size=1, \n",
    "    breakpoint_percentile_threshold=95, \n",
    "    embed_model=embed_model\n",
    ")\n",
    "\n",
    "nodes = splitter.get_nodes_from_documents([doc])\n",
    "\n",
    "for node in nodes:\n",
    "    print(node)"
   ]
  },
  {
   "cell_type": "code",
   "execution_count": 24,
   "metadata": {},
   "outputs": [
    {
     "name": "stdout",
     "output_type": "stream",
     "text": [
      "Node ID: 236d2ed2-257b-4a00-86af-4fde2c39d612\n",
      "Text: Mèo rất đáng yêu.\n",
      "Node ID: 7c0531c4-6113-46cf-989f-975930fab71c\n",
      "Text: Acid hydrochloric đậm đặc nhất có nồng độ tối đa là 40%.\n",
      "Ở dạng đậm đặc, acid này có thể tạo thành các sương mù acid,\n",
      "chúng đều có khả năng ăn mòn các mô con người, gây tổn thương cơ quan\n",
      "hô hấp,          mắt, da và ruột.\n"
     ]
    }
   ],
   "source": [
    "for node in nodes:\n",
    "    print(node)"
   ]
  },
  {
   "cell_type": "markdown",
   "metadata": {},
   "source": [
    "## Metadata extractor"
   ]
  },
  {
   "cell_type": "code",
   "execution_count": 2,
   "metadata": {},
   "outputs": [
    {
     "name": "stdout",
     "output_type": "stream",
     "text": [
      "document metadata {'file_path': 'files/test_metadata_ex.txt', 'file_name': 'test_metadata_ex.txt', 'file_type': 'text/plain', 'file_size': 308, 'creation_date': '2024-09-03', 'last_modified_date': '2024-09-03'}\n",
      "node metadata {'file_path': 'files/test_metadata_ex.txt', 'file_name': 'test_metadata_ex.txt', 'file_type': 'text/plain', 'file_size': 308, 'creation_date': '2024-09-03', 'last_modified_date': '2024-09-03'}\n"
     ]
    }
   ],
   "source": [
    "from llama_index.core.node_parser import SemanticSplitterNodeParser\n",
    "from llama_index.embeddings.openai import OpenAIEmbedding\n",
    "from llama_index.core import SimpleDirectoryReader\n",
    "\n",
    "# Đọc dữ liệu từ thư mục\n",
    "reader = SimpleDirectoryReader(input_files=[\"files/test_metadata_ex.txt\"])\n",
    "docs = reader.load_data()\n",
    "\n",
    "# Sử dụng mô hình OpenAI để tính toán embedding\n",
    "embed_model = OpenAIEmbedding()\n",
    "\n",
    "# Khởi tạo SemanticSplitterNodeParser với các tham số tùy chỉnh\n",
    "splitter = SemanticSplitterNodeParser(\n",
    "    buffer_size=1, \n",
    "    breakpoint_percentile_threshold=95, \n",
    "    embed_model=embed_model\n",
    ")\n",
    "\n",
    "nodes = splitter.get_nodes_from_documents(docs)\n",
    "\n",
    "print(\"document metadata\", docs[0].metadata)\n",
    "print(\"node metadata\", nodes[0].metadata)"
   ]
  },
  {
   "cell_type": "code",
   "execution_count": 3,
   "metadata": {},
   "outputs": [
    {
     "data": {
      "text/plain": [
       "[TextNode(id_='d9920c46-958c-46f8-90a1-18015faeb737', embedding=None, metadata={'file_path': 'files/test_metadata_ex.txt', 'file_name': 'test_metadata_ex.txt', 'file_type': 'text/plain', 'file_size': 308, 'creation_date': '2024-09-03', 'last_modified_date': '2024-09-03'}, excluded_embed_metadata_keys=['file_name', 'file_type', 'file_size', 'creation_date', 'last_modified_date', 'last_accessed_date'], excluded_llm_metadata_keys=['file_name', 'file_type', 'file_size', 'creation_date', 'last_modified_date', 'last_accessed_date'], relationships={<NodeRelationship.SOURCE: '1'>: RelatedNodeInfo(node_id='bfeeb2d7-4bfa-4974-84db-418d55437328', node_type=<ObjectType.DOCUMENT: '4'>, metadata={'file_path': 'files/test_metadata_ex.txt', 'file_name': 'test_metadata_ex.txt', 'file_type': 'text/plain', 'file_size': 308, 'creation_date': '2024-09-03', 'last_modified_date': '2024-09-03'}, hash='31ac15f32648cda8eb2c71efe3e4fab2bab196c8855467e1ef433736ccdfa4c8'), <NodeRelationship.NEXT: '3'>: RelatedNodeInfo(node_id='d2aafa4e-4de6-4b98-8bbb-697e6b387e3b', node_type=<ObjectType.TEXT: '1'>, metadata={}, hash='e7a0376cce8f8b8326d4d1fc355cf7f320e9df01ef8f6cd802eac4d72250e337')}, text='Mèo rất đáng yêu. \\n\\n', mimetype='text/plain', start_char_idx=0, end_char_idx=20, text_template='{metadata_str}\\n\\n{content}', metadata_template='{key}: {value}', metadata_seperator='\\n'),\n",
       " TextNode(id_='d2aafa4e-4de6-4b98-8bbb-697e6b387e3b', embedding=None, metadata={'file_path': 'files/test_metadata_ex.txt', 'file_name': 'test_metadata_ex.txt', 'file_type': 'text/plain', 'file_size': 308, 'creation_date': '2024-09-03', 'last_modified_date': '2024-09-03'}, excluded_embed_metadata_keys=['file_name', 'file_type', 'file_size', 'creation_date', 'last_modified_date', 'last_accessed_date'], excluded_llm_metadata_keys=['file_name', 'file_type', 'file_size', 'creation_date', 'last_modified_date', 'last_accessed_date'], relationships={<NodeRelationship.SOURCE: '1'>: RelatedNodeInfo(node_id='bfeeb2d7-4bfa-4974-84db-418d55437328', node_type=<ObjectType.DOCUMENT: '4'>, metadata={'file_path': 'files/test_metadata_ex.txt', 'file_name': 'test_metadata_ex.txt', 'file_type': 'text/plain', 'file_size': 308, 'creation_date': '2024-09-03', 'last_modified_date': '2024-09-03'}, hash='31ac15f32648cda8eb2c71efe3e4fab2bab196c8855467e1ef433736ccdfa4c8'), <NodeRelationship.PREVIOUS: '2'>: RelatedNodeInfo(node_id='d9920c46-958c-46f8-90a1-18015faeb737', node_type=<ObjectType.TEXT: '1'>, metadata={'file_path': 'files/test_metadata_ex.txt', 'file_name': 'test_metadata_ex.txt', 'file_type': 'text/plain', 'file_size': 308, 'creation_date': '2024-09-03', 'last_modified_date': '2024-09-03'}, hash='f07128447048420c689dcd47bc4ac832dba1316bed8af803f274df7e8d173135')}, text='Acid hydrochloric đậm đặc nhất có nồng độ tối đa là 40%. \\nỞ dạng đậm đặc, acid này có thể tạo thành các sương mù acid, \\nchúng đều có khả năng ăn mòn các mô con người, gây tổn thương cơ quan hô hấp, mắt, da và ruột.', mimetype='text/plain', start_char_idx=20, end_char_idx=234, text_template='{metadata_str}\\n\\n{content}', metadata_template='{key}: {value}', metadata_seperator='\\n')]"
      ]
     },
     "execution_count": 3,
     "metadata": {},
     "output_type": "execute_result"
    }
   ],
   "source": [
    "nodes"
   ]
  },
  {
   "cell_type": "markdown",
   "metadata": {},
   "source": [
    "### Title Extractor"
   ]
  },
  {
   "cell_type": "code",
   "execution_count": 5,
   "metadata": {},
   "outputs": [
    {
     "name": "stderr",
     "output_type": "stream",
     "text": [
      "100%|██████████| 2/2 [00:01<00:00,  1.26it/s]\n"
     ]
    },
    {
     "name": "stdout",
     "output_type": "stream",
     "text": [
      "{'document_title': '\"Khám Phá Thế Giới Động Vật và Hóa Học: Từ Sự Đáng Yêu Của Mèo Đến Nguy Cơ Của Axit Hydrochloric\"'}\n",
      "{'document_title': '\"Khám Phá Thế Giới Động Vật và Hóa Học: Từ Sự Đáng Yêu Của Mèo Đến Nguy Cơ Của Axit Hydrochloric\"'}\n"
     ]
    }
   ],
   "source": [
    "import nest_asyncio\n",
    "nest_asyncio.apply()\n",
    "from llama_index.core.extractors import TitleExtractor\n",
    "title_extractor = TitleExtractor()\n",
    "metadata_list = title_extractor.extract(nodes)\n",
    "for metadata in metadata_list:\n",
    "    print(metadata)"
   ]
  },
  {
   "cell_type": "markdown",
   "metadata": {},
   "source": [
    "### QuestionsAnsweredExtractor"
   ]
  },
  {
   "cell_type": "code",
   "execution_count": 6,
   "metadata": {},
   "outputs": [
    {
     "name": "stderr",
     "output_type": "stream",
     "text": [
      "100%|██████████| 2/2 [00:03<00:00,  1.69s/it]"
     ]
    },
    {
     "name": "stdout",
     "output_type": "stream",
     "text": [
      "[{'questions_this_excerpt_can_answer': 'Based on the provided context, here are three specific questions that can be answered using the information given:\\n\\n1. **What is the file size of the document named \"test_metadata_ex.txt\"?**\\n   - Answer: The file size of \"test_metadata_ex.txt\" is 308 bytes.\\n\\n2. **On what date was the file \"test_metadata_ex.txt\" created?**\\n   - Answer: The file \"test_metadata_ex.txt\" was created on September 3, 2024.\\n\\n3. **What type of content is indicated by the file type of \"test_metadata_ex.txt\"?**\\n   - Answer: The file type of \"test_metadata_ex.txt\" is text/plain, indicating that it contains plain text content.'}, {'questions_this_excerpt_can_answer': 'Based on the provided context regarding the properties and dangers of concentrated hydrochloric acid, here are three specific questions that can be answered:\\n\\n1. **What is the maximum concentration of hydrochloric acid in its most concentrated form?**\\n   - Answer: The maximum concentration of hydrochloric acid is 40%.\\n\\n2. **What types of harmful effects can concentrated hydrochloric acid have on human health?**\\n   - Answer: Concentrated hydrochloric acid can cause corrosion to human tissues, leading to damage to the respiratory system, eyes, skin, and intestines.\\n\\n3. **What hazardous condition can occur when hydrochloric acid is in its concentrated form?**\\n   - Answer: Concentrated hydrochloric acid can create acid mists, which are harmful to human health.'}]\n"
     ]
    },
    {
     "name": "stderr",
     "output_type": "stream",
     "text": [
      "\n"
     ]
    }
   ],
   "source": [
    "from llama_index.core.extractors import QuestionsAnsweredExtractor\n",
    "qa_extractor = QuestionsAnsweredExtractor(questions=3)\n",
    "metadata_list = qa_extractor.extract(nodes)\n",
    "print(metadata_list)"
   ]
  },
  {
   "cell_type": "code",
   "execution_count": 29,
   "metadata": {},
   "outputs": [],
   "source": [
    "CUSTORM_QUESTION_GEN_TMPL = \"\"\"\\\n",
    "Here is the context:\n",
    "{context_str}\n",
    "\n",
    "Given the contextual information, \\\n",
    "generate {num_questions} questions this context can provide \\\n",
    "specific answers to which are unlikely to be found elsewhere.\n",
    "\n",
    "Higher-level summaries of surrounding context may be provided \\\n",
    "as well. Try using these summaries to generate better questions \\\n",
    "that this context can answer.\n",
    "\n",
    "Lưu ý: Hãy trả về kết quả bằng tiếng Việt.\n",
    "\"\"\""
   ]
  },
  {
   "cell_type": "code",
   "execution_count": 30,
   "metadata": {},
   "outputs": [
    {
     "name": "stderr",
     "output_type": "stream",
     "text": [
      "100%|██████████| 2/2 [00:03<00:00,  1.55s/it]"
     ]
    },
    {
     "name": "stdout",
     "output_type": "stream",
     "text": [
      "[{'questions_this_excerpt_can_answer': '1. Tệp tin \"test_metadata_ex.txt\" được tạo ra vào ngày nào?\\n2. Kích thước của tệp tin \"test_metadata_ex.txt\" là bao nhiêu byte?\\n3. Nội dung của tệp tin \"test_metadata_ex.txt\" có chứa thông tin gì đặc biệt không?'}, {'questions_this_excerpt_can_answer': 'Dựa trên thông tin trong ngữ cảnh, dưới đây là ba câu hỏi có thể được trả lời một cách cụ thể:\\n\\n1. Nồng độ tối đa của acid hydrochloric ở dạng đậm đặc là bao nhiêu phần trăm?\\n2. Acid hydrochloric có thể gây tổn thương cho những bộ phận nào của cơ thể con người?\\n3. Ngày nào file test_metadata_ex.txt được tạo ra và chỉnh sửa lần cuối?'}]\n"
     ]
    },
    {
     "name": "stderr",
     "output_type": "stream",
     "text": [
      "\n"
     ]
    }
   ],
   "source": [
    "from llama_index.core.extractors import QuestionsAnsweredExtractor\n",
    "qa_extractor = QuestionsAnsweredExtractor(questions=3, prompt_template=CUSTORM_QUESTION_GEN_TMPL)\n",
    "metadata_list = qa_extractor.extract(nodes)\n",
    "print(metadata_list)"
   ]
  },
  {
   "cell_type": "markdown",
   "metadata": {},
   "source": [
    "### Summary Extractor"
   ]
  },
  {
   "cell_type": "code",
   "execution_count": 31,
   "metadata": {},
   "outputs": [
    {
     "name": "stderr",
     "output_type": "stream",
     "text": [
      "100%|██████████| 2/2 [00:03<00:00,  1.95s/it]"
     ]
    },
    {
     "name": "stdout",
     "output_type": "stream",
     "text": [
      "[{'next_section_summary': 'Tóm tắt: \\n\\nNội dung đề cập đến acid hydrochloric (HCl) với nồng độ tối đa 40% trong dạng đậm đặc. Acid này có khả năng tạo ra sương mù acid, có thể gây ăn mòn và tổn thương cho các mô của con người, ảnh hưởng đến các cơ quan hô hấp, mắt, da và ruột. Các chủ đề chính bao gồm tính chất của acid hydrochloric, nồng độ, và tác hại của nó đối với sức khỏe con người.', 'section_summary': 'Tóm tắt: \\n\\nNội dung của phần này chứa thông tin về một tệp tin có tên \"test_metadata_ex.txt\". Tệp tin này thuộc loại văn bản (text/plain) với kích thước 308 byte. Ngày tạo và ngày chỉnh sửa cuối cùng của tệp là ngày 3 tháng 9 năm 2024. Ngoài ra, phần nội dung của tệp tin có đề cập đến mèo, với câu \"Mèo rất đáng yêu.\" \\n\\nCác chủ đề và thực thể chính bao gồm:\\n- Tên tệp: test_metadata_ex.txt\\n- Loại tệp: văn bản\\n- Kích thước tệp: 308 byte\\n- Ngày tạo và chỉnh sửa: 3/9/2024\\n- Nội dung: Mèo đáng yêu.'}, {'prev_section_summary': 'Tóm tắt: \\n\\nNội dung của phần này chứa thông tin về một tệp tin có tên \"test_metadata_ex.txt\". Tệp tin này thuộc loại văn bản (text/plain) với kích thước 308 byte. Ngày tạo và ngày chỉnh sửa cuối cùng của tệp là ngày 3 tháng 9 năm 2024. Ngoài ra, phần nội dung của tệp tin có đề cập đến mèo, với câu \"Mèo rất đáng yêu.\" \\n\\nCác chủ đề và thực thể chính bao gồm:\\n- Tên tệp: test_metadata_ex.txt\\n- Loại tệp: văn bản\\n- Kích thước tệp: 308 byte\\n- Ngày tạo và chỉnh sửa: 3/9/2024\\n- Nội dung: Mèo đáng yêu.', 'section_summary': 'Tóm tắt: \\n\\nNội dung đề cập đến acid hydrochloric (HCl) với nồng độ tối đa 40% trong dạng đậm đặc. Acid này có khả năng tạo ra sương mù acid, có thể gây ăn mòn và tổn thương cho các mô của con người, ảnh hưởng đến các cơ quan hô hấp, mắt, da và ruột. Các chủ đề chính bao gồm tính chất của acid hydrochloric, nồng độ, và tác hại của nó đối với sức khỏe con người.'}]\n"
     ]
    },
    {
     "name": "stderr",
     "output_type": "stream",
     "text": [
      "\n"
     ]
    }
   ],
   "source": [
    "from llama_index.core.extractors import SummaryExtractor\n",
    "\n",
    "CUSTORM_SUMMARY_EXTRACT_TEMPLATE = \"\"\"\\\n",
    "Here is the content of the section:\n",
    "{context_str}\n",
    "\n",
    "Summarize the key topics and entities of the section. \\\n",
    "Lưu ý: Hãy trả về kết quả bằng tiếng Việt.\\\n",
    "Summary: \"\"\"\n",
    "summary_extractor = SummaryExtractor(summaries=[\"prev\", \"self\", \"next\"], prompt_template=CUSTORM_SUMMARY_EXTRACT_TEMPLATE)\n",
    "metadata_list = summary_extractor.extract(nodes)\n",
    "print(metadata_list)"
   ]
  },
  {
   "cell_type": "markdown",
   "metadata": {},
   "source": [
    "### KeywordExtractor"
   ]
  },
  {
   "cell_type": "code",
   "execution_count": 32,
   "metadata": {},
   "outputs": [
    {
     "name": "stderr",
     "output_type": "stream",
     "text": [
      "100%|██████████| 2/2 [00:01<00:00,  1.76it/s]"
     ]
    },
    {
     "name": "stdout",
     "output_type": "stream",
     "text": [
      "[{'excerpt_keywords': 'Keywords: mèo, đáng yêu, thú cưng'}, {'excerpt_keywords': 'Keywords: acid hydrochloric, nồng độ, ăn mòn'}]\n"
     ]
    },
    {
     "name": "stderr",
     "output_type": "stream",
     "text": [
      "\n"
     ]
    }
   ],
   "source": [
    "from llama_index.core.extractors import KeywordExtractor\n",
    "\n",
    "key_extractor = KeywordExtractor(keywords=3)\n",
    "metadata_list = key_extractor.extract(nodes)\n",
    "print(metadata_list)\n"
   ]
  },
  {
   "cell_type": "markdown",
   "metadata": {},
   "source": [
    "### EntityExtractor"
   ]
  },
  {
   "cell_type": "code",
   "execution_count": null,
   "metadata": {},
   "outputs": [],
   "source": [
    "# pip install llama-index-extractors-entity"
   ]
  },
  {
   "cell_type": "code",
   "execution_count": 7,
   "metadata": {},
   "outputs": [
    {
     "name": "stderr",
     "output_type": "stream",
     "text": [
      "[nltk_data] Downloading package punkt_tab to\n",
      "[nltk_data]     /home/tiemdinh/nltk_data...\n",
      "[nltk_data]   Package punkt_tab is already up-to-date!\n"
     ]
    },
    {
     "data": {
      "text/plain": [
       "True"
      ]
     },
     "execution_count": 7,
     "metadata": {},
     "output_type": "execute_result"
    }
   ],
   "source": [
    "import nltk\n",
    "nltk.download('punkt_tab')"
   ]
  },
  {
   "cell_type": "code",
   "execution_count": 4,
   "metadata": {},
   "outputs": [
    {
     "name": "stderr",
     "output_type": "stream",
     "text": [
      "/home/tiemdinh/miniconda3/envs/aio_mental_health/lib/python3.11/site-packages/tqdm/auto.py:21: TqdmWarning: IProgress not found. Please update jupyter and ipywidgets. See https://ipywidgets.readthedocs.io/en/stable/user_install.html\n",
      "  from .autonotebook import tqdm as notebook_tqdm\n",
      "/home/tiemdinh/miniconda3/envs/aio_mental_health/lib/python3.11/site-packages/huggingface_hub/file_download.py:1132: FutureWarning: `resume_download` is deprecated and will be removed in version 1.0.0. Downloads always resume when possible. If you want to force a new download, use `force_download=True`.\n",
      "  warnings.warn(\n",
      "Extracting entities:   0%|          | 0/2 [00:00<?, ?it/s]SpanMarker model predictions are being computed on the CPU while CUDA is available. Moving the model to CUDA using `model.cuda()` before performing predictions is heavily recommended to significantly boost prediction speeds.\n",
      "Extracting entities:  50%|█████     | 1/2 [00:00<00:00,  1.65it/s]SpanMarker model predictions are being computed on the CPU while CUDA is available. Moving the model to CUDA using `model.cuda()` before performing predictions is heavily recommended to significantly boost prediction speeds.\n",
      "Extracting entities: 100%|██████████| 2/2 [00:01<00:00,  1.26it/s]\n"
     ]
    }
   ],
   "source": [
    "import nest_asyncio\n",
    "nest_asyncio.apply()\n",
    "from llama_index.extractors.entity import EntityExtractor\n",
    "\n",
    "\n",
    "entity_extractor = EntityExtractor(\n",
    "    # label_entities=True,\n",
    "    device=\"cpu\"\n",
    ")\n",
    "metadata_list = entity_extractor.extract(nodes)"
   ]
  },
  {
   "cell_type": "code",
   "execution_count": 5,
   "metadata": {},
   "outputs": [
    {
     "name": "stdout",
     "output_type": "stream",
     "text": [
      "[{}, {'entities': ['hô hấp']}]\n"
     ]
    }
   ],
   "source": [
    "print(metadata_list)"
   ]
  },
  {
   "cell_type": "markdown",
   "metadata": {},
   "source": [
    "## Ingestion Pipeline"
   ]
  },
  {
   "cell_type": "code",
   "execution_count": 25,
   "metadata": {},
   "outputs": [
    {
     "name": "stderr",
     "output_type": "stream",
     "text": [
      "100%|██████████| 2/2 [00:02<00:00,  1.05s/it]\n"
     ]
    }
   ],
   "source": [
    "from llama_index.core import Document\n",
    "from llama_index.embeddings.openai import OpenAIEmbedding\n",
    "from llama_index.core.node_parser import SentenceSplitter\n",
    "from llama_index.core.extractors import TitleExtractor, QuestionsAnsweredExtractor\n",
    "from llama_index.core.ingestion import IngestionPipeline, IngestionCache\n",
    "\n",
    "\n",
    "text = \"\"\"Hôm nay Sài Gòn mưa quá, thèm một chiếc kem lạnh thấu tâm can.\n",
    "        Ngoài trời mưa vẫn rơi như trút, tôi thì cạn khô!\n",
    "        \"\"\"\n",
    "\n",
    "doc = Document(text=text)\n",
    "\n",
    "# create the pipeline with transformations\n",
    "pipeline = IngestionPipeline(\n",
    "    transformations=[\n",
    "        SentenceSplitter(chunk_size=50, chunk_overlap=0),\n",
    "        TitleExtractor(),\n",
    "        OpenAIEmbedding(),\n",
    "    ]\n",
    ")\n",
    "\n",
    "# run the pipeline\n",
    "nodes = pipeline.run(documents=[doc])"
   ]
  },
  {
   "cell_type": "code",
   "execution_count": 28,
   "metadata": {},
   "outputs": [
    {
     "name": "stdout",
     "output_type": "stream",
     "text": [
      "Node ID: 08b538e8-c8a9-4ff8-a1ae-5f3fec8da531\n",
      "Text: Hôm nay Sài Gòn mưa quá, thèm một chiếc kem lạnh thấu tâm can.\n",
      "Node ID: 671fe15f-0613-4b91-923f-bb491b081d59\n",
      "Text: Ngoài trời mưa vẫn rơi như trút, tôi thì cạn khô!\n"
     ]
    }
   ],
   "source": [
    "# Lưu trữ kết quả vào cache\n",
    "pipeline.persist(\"pipeline_cache\")\n",
    "# Load kết quả từ cache\n",
    "new_pipeline = IngestionPipeline(\n",
    "    transformations=[\n",
    "        SentenceSplitter(chunk_size=50, chunk_overlap=0),\n",
    "        TitleExtractor(),\n",
    "        OpenAIEmbedding(),\n",
    "    ]\n",
    ")\n",
    "new_pipeline.load(\"pipeline_cache\")\n",
    "nodes = new_pipeline.run(documents=[doc])\n",
    "for node in nodes:\n",
    "    print(node)"
   ]
  },
  {
   "cell_type": "code",
   "execution_count": 27,
   "metadata": {},
   "outputs": [
    {
     "name": "stdout",
     "output_type": "stream",
     "text": [
      "Node ID: 08b538e8-c8a9-4ff8-a1ae-5f3fec8da531\n",
      "Text: Hôm nay Sài Gòn mưa quá, thèm một chiếc kem lạnh thấu tâm can.\n",
      "{'document_title': '\"Những Cảm Xúc Dưới Cơn Mưa: Từ Nỗi Thèm Kem Lạnh Đến Nỗi Cạn Khô\"'}\n",
      "Node ID: 671fe15f-0613-4b91-923f-bb491b081d59\n",
      "Text: Ngoài trời mưa vẫn rơi như trút, tôi thì cạn khô!\n",
      "{'document_title': '\"Những Cảm Xúc Dưới Cơn Mưa: Từ Nỗi Thèm Kem Lạnh Đến Nỗi Cạn Khô\"'}\n"
     ]
    }
   ],
   "source": [
    "for node in nodes:\n",
    "    print(node)\n",
    "    print(node.metadata)"
   ]
  }
 ],
 "metadata": {
  "kernelspec": {
   "display_name": "pits_env",
   "language": "python",
   "name": "python3"
  },
  "language_info": {
   "codemirror_mode": {
    "name": "ipython",
    "version": 3
   },
   "file_extension": ".py",
   "mimetype": "text/x-python",
   "name": "python",
   "nbconvert_exporter": "python",
   "pygments_lexer": "ipython3",
   "version": "3.11.9"
  }
 },
 "nbformat": 4,
 "nbformat_minor": 2
}
